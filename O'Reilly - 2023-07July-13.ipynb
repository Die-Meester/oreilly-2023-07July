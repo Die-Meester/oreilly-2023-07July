{
 "cells": [
  {
   "cell_type": "markdown",
   "metadata": {},
   "source": [
    "# Agenda: Loops, lists, and tuples\n",
    "\n",
    "1. Q&A\n",
    "2. Loops\n",
    "    - What are they?\n",
    "    - `for` loops\n",
    "    - `for` loops a number of times\n",
    "    - `while` loops\n",
    "    - Breaking out of a loop\n",
    "3. Lists\n",
    "    - What are lists?\n",
    "    - How are lists similar to strings?\n",
    "    - How are lists different from strings?\n",
    "    - Looping over lists\n",
    "    - Lists are mutable"
   ]
  },
  {
   "cell_type": "code",
   "execution_count": null,
   "metadata": {},
   "outputs": [],
   "source": []
  }
 ],
 "metadata": {
  "kernelspec": {
   "display_name": "Python 3 (ipykernel)",
   "language": "python",
   "name": "python3"
  },
  "language_info": {
   "codemirror_mode": {
    "name": "ipython",
    "version": 3
   },
   "file_extension": ".py",
   "mimetype": "text/x-python",
   "name": "python",
   "nbconvert_exporter": "python",
   "pygments_lexer": "ipython3",
   "version": "3.11.4"
  }
 },
 "nbformat": 4,
 "nbformat_minor": 4
}
