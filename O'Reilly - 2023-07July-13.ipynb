{
 "cells": [
  {
   "cell_type": "markdown",
   "metadata": {},
   "source": [
    "# Agenda: Loops, lists, and tuples\n",
    "\n",
    "1. Q&A\n",
    "2. Loops\n",
    "    - What are they?\n",
    "    - `for` loops\n",
    "    - `for` loops a number of times\n",
    "    - `while` loops\n",
    "    - Breaking out of a loop\n",
    "3. Lists\n",
    "    - What are lists?\n",
    "    - How are lists similar to strings?\n",
    "    - How are lists different from strings?\n",
    "    - Looping over lists\n",
    "    - Lists are mutable -- how to add to or remove from a list\n",
    "4. Strings to lists, and back\n",
    "    - Turn a string into a list (with `str.split`)\n",
    "    - Turn a list of strings into a string (with `str.join`)\n",
    "5. Tuples\n",
    "    - What are they? (What do we care?)\n",
    "    - Tuple unpacking, and how great it is"
   ]
  },
  {
   "cell_type": "markdown",
   "metadata": {},
   "source": [
    "# DRY -- don't repeat yourself!\n",
    "\n",
    "This is one of the most important rules in all of programming. (\"Pragmatic Programmer\" book first told me about it.)\n",
    "\n",
    "If you have some code that repeats itself, several lines in a row, then you should find a way to avoid doing that."
   ]
  },
  {
   "cell_type": "code",
   "execution_count": 2,
   "metadata": {},
   "outputs": [
    {
     "name": "stdout",
     "output_type": "stream",
     "text": [
      "a\n",
      "b\n",
      "c\n",
      "d\n",
      "e\n"
     ]
    }
   ],
   "source": [
    "s = 'abcde'\n",
    "\n",
    "# I want to print all of the characters in the string s\n",
    "print(s[0])\n",
    "print(s[1])\n",
    "print(s[2])\n",
    "print(s[3])\n",
    "print(s[4])"
   ]
  },
  {
   "cell_type": "code",
   "execution_count": 3,
   "metadata": {},
   "outputs": [],
   "source": [
    "# this does give us the right answer!\n",
    "# but it's a huge violation of the DRY rule\n",
    "\n",
    "# this is where a loop comes in handy -- a loop lets us tell the programming language\n",
    "# that we want to do something multiple times"
   ]
  },
  {
   "cell_type": "markdown",
   "metadata": {},
   "source": [
    "# What are `for` loops?\n",
    "\n",
    "- They work on \"iterable\" objects, meaning objects that know how to work in `for` loops\n",
    "- Basically, that means any \"container\" object, which has inside of it other objects\n",
    "- If we iterate over that object, we'll get (in each iteration) a new value\n",
    "- The `for` loop will typically run once for each value we'll get in an object"
   ]
  },
  {
   "cell_type": "code",
   "execution_count": 4,
   "metadata": {},
   "outputs": [
    {
     "name": "stdout",
     "output_type": "stream",
     "text": [
      "a\n",
      "b\n",
      "c\n",
      "d\n",
      "e\n"
     ]
    }
   ],
   "source": [
    "s = 'abcde'\n",
    "\n",
    "# we start with the \"for\" keyword\n",
    "# then comes a variable, which we're defining via the \"for\" loop\n",
    "# then we have the \"in\" keyword\n",
    "# then we have the iterable object -- what we're asking for multiple values\n",
    "# then there's a colon, and indentation\n",
    "\n",
    "# the loop body, as it's known, as can be as long as you want\n",
    "# the loop body can contain ANYTHING at all -- if/else, for, print, input, assignment\n",
    "\n",
    "# with each iteration, the \"for\" loop asks the object for its next value\n",
    "# that value is assigned to the loop variable (here, one_character)\n",
    "# we then execute the loop body with the loop variable assigned to an element of our object\n",
    "\n",
    "\n",
    "for one_character in s:\n",
    "    print(one_character)         "
   ]
  },
  {
   "cell_type": "code",
   "execution_count": null,
   "metadata": {},
   "outputs": [],
   "source": []
  }
 ],
 "metadata": {
  "kernelspec": {
   "display_name": "Python 3 (ipykernel)",
   "language": "python",
   "name": "python3"
  },
  "language_info": {
   "codemirror_mode": {
    "name": "ipython",
    "version": 3
   },
   "file_extension": ".py",
   "mimetype": "text/x-python",
   "name": "python",
   "nbconvert_exporter": "python",
   "pygments_lexer": "ipython3",
   "version": "3.11.4"
  }
 },
 "nbformat": 4,
 "nbformat_minor": 4
}
