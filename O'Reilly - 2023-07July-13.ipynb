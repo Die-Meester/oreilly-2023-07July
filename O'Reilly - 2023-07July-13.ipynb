{
 "cells": [
  {
   "cell_type": "markdown",
   "metadata": {},
   "source": [
    "# Agenda: Loops, lists, and tuples\n",
    "\n",
    "1. Q&A\n",
    "2. Loops\n",
    "    - What are they?\n",
    "    - `for` loops\n",
    "    - `for` loops a number of times\n",
    "    - `while` loops\n",
    "    - Breaking out of a loop\n",
    "3. Lists\n",
    "    - What are lists?\n",
    "    - How are lists similar to strings?\n",
    "    - How are lists different from strings?\n",
    "    - Looping over lists\n",
    "    - Lists are mutable -- how to add to or remove from a list\n",
    "4. Strings to lists, and back\n",
    "    - Turn a string into a list (with `str.split`)\n",
    "    - Turn a list of strings into a string (with `str.join`)\n",
    "5. Tuples\n",
    "    - What are they? (What do we care?)\n",
    "    - Tuple unpacking, and how great it is"
   ]
  },
  {
   "cell_type": "markdown",
   "metadata": {},
   "source": [
    "# DRY -- don't repeat yourself!\n",
    "\n",
    "This is one of the most important rules in all of programming. (\"Pragmatic Programmer\" book first told me about it.)\n",
    "\n",
    "If you have some code that repeats itself, several lines in a row, then you should find a way to avoid doing that."
   ]
  },
  {
   "cell_type": "code",
   "execution_count": 2,
   "metadata": {},
   "outputs": [
    {
     "name": "stdout",
     "output_type": "stream",
     "text": [
      "a\n",
      "b\n",
      "c\n",
      "d\n",
      "e\n"
     ]
    }
   ],
   "source": [
    "s = 'abcde'\n",
    "\n",
    "# I want to print all of the characters in the string s\n",
    "print(s[0])\n",
    "print(s[1])\n",
    "print(s[2])\n",
    "print(s[3])\n",
    "print(s[4])"
   ]
  },
  {
   "cell_type": "code",
   "execution_count": 3,
   "metadata": {},
   "outputs": [],
   "source": [
    "# this does give us the right answer!\n",
    "# but it's a huge violation of the DRY rule\n",
    "\n",
    "# this is where a loop comes in handy -- a loop lets us tell the programming language\n",
    "# that we want to do something multiple times"
   ]
  },
  {
   "cell_type": "markdown",
   "metadata": {},
   "source": [
    "# What are `for` loops?\n",
    "\n",
    "- They work on \"iterable\" objects, meaning objects that know how to work in `for` loops\n",
    "- Basically, that means any \"container\" object, which has inside of it other objects\n",
    "- If we iterate over that object, we'll get (in each iteration) a new value\n",
    "- The `for` loop will typically run once for each value we'll get in an object"
   ]
  },
  {
   "cell_type": "code",
   "execution_count": 6,
   "metadata": {},
   "outputs": [
    {
     "name": "stdout",
     "output_type": "stream",
     "text": [
      "a\n",
      "b\n",
      "c\n",
      "d\n",
      "e\n"
     ]
    }
   ],
   "source": [
    "s = 'abcde'\n",
    "\n",
    "# we start with the \"for\" keyword\n",
    "# then comes a variable, which we're defining via the \"for\" loop\n",
    "# then we have the \"in\" keyword\n",
    "# then we have the iterable object -- what we're asking for multiple values\n",
    "# then there's a colon, and indentation\n",
    "\n",
    "# the loop body, as it's known, as can be as long as you want\n",
    "# the loop body can contain ANYTHING at all -- if/else, for, print, input, assignment\n",
    "\n",
    "# with each iteration, the \"for\" loop asks the object for its next value\n",
    "# that value is assigned to the loop variable (here, one_character)\n",
    "# we then execute the loop body with the loop variable assigned to an element of our object\n",
    "\n",
    "# at some point, the for loop turns to the object and asks for the next item\n",
    "# the object says: No more! I'm done!\n",
    "# at that point, we exit from the loop\n",
    "\n",
    "# we don't need an index, because we get the values\n",
    "# how do we get one character at a time from s? Is it because we called our variable one_character?\n",
    "#   NO NO NO NO NO!\n",
    "#   strings always return one character at a time when you iterate over them\n",
    "#   I chose the variable name one_character because I thought it made the program easier to read/maintain\n",
    "\n",
    "for one_character in s:\n",
    "    print(one_character)         "
   ]
  },
  {
   "cell_type": "markdown",
   "metadata": {},
   "source": [
    "# Exercise: Vowels, digits, and others\n",
    "\n",
    "1. Define three variables: `vowels`, `digits`, and `others`, all set to 0.\n",
    "2. Ask the user to enter a string.\n",
    "3. Go through the string, one character at a time. For each character, determine:\n",
    "    - Is it a vowel? If so, add 1 to `vowels`\n",
    "    - Is it a digit? If so, add 1 to `digits`\n",
    "    - In all other cases, add 1 to `others`.\n",
    "4. Print the values of all variables.\n",
    "\n",
    "Example:\n",
    "\n",
    "    Enter a string: hello123 !!\n",
    "    vowels: 2\n",
    "    digits: 3\n",
    "    others: 6"
   ]
  },
  {
   "cell_type": "code",
   "execution_count": 7,
   "metadata": {},
   "outputs": [
    {
     "name": "stdin",
     "output_type": "stream",
     "text": [
      "Enter a string:  hello123 !!\n"
     ]
    },
    {
     "name": "stdout",
     "output_type": "stream",
     "text": [
      "vowels = 2\n",
      "digits = 3\n",
      "others = 6\n"
     ]
    }
   ],
   "source": [
    "vowels = 0\n",
    "digits = 0\n",
    "others = 0\n",
    "\n",
    "s = input('Enter a string: ').strip()    # get input from the user, then remove leading/trailing whitespace, then assign to s\n",
    "\n",
    "for one_character in s:\n",
    "    if one_character in 'aeiou':     # is the character a vowel?\n",
    "        vowels += 1\n",
    "    elif one_character.isdigit():    # is the character a digit?\n",
    "        digits += 1\n",
    "    else:\n",
    "        others += 1\n",
    "\n",
    "print(f'vowels = {vowels}')\n",
    "print(f'digits = {digits}')\n",
    "print(f'others = {others}')\n"
   ]
  },
  {
   "cell_type": "markdown",
   "metadata": {},
   "source": [
    "# Special characters\n",
    "\n",
    "Normally, a string contains characters that are printed in an obvious way. \"a\" will be printed as \"a\" and \"!\" will be printed as \"!\".\n",
    "\n",
    "But sometimes, we want to print special values. And for those, we need to put a combination of characters in our string. These special characters are normally written in our string starting with `\\` and then one or more other characters. Some common ones:\n",
    "\n",
    "- `\\n` -- newline\n",
    "- `\\t` -- tab\n",
    "\n"
   ]
  },
  {
   "cell_type": "code",
   "execution_count": 8,
   "metadata": {},
   "outputs": [
    {
     "name": "stdout",
     "output_type": "stream",
     "text": [
      "abcd\n",
      "efgh\n"
     ]
    }
   ],
   "source": [
    "print('abcd\\nefgh')   # \\n is one character, written as two, that adds a newline to the print"
   ]
  },
  {
   "cell_type": "code",
   "execution_count": 9,
   "metadata": {},
   "outputs": [
    {
     "data": {
      "text/plain": [
       "23"
      ]
     },
     "execution_count": 9,
     "metadata": {},
     "output_type": "execute_result"
    }
   ],
   "source": [
    "s = '     a     b      c    '\n",
    "\n",
    "len(s)"
   ]
  },
  {
   "cell_type": "code",
   "execution_count": 10,
   "metadata": {},
   "outputs": [
    {
     "data": {
      "text/plain": [
       "'a     b      c'"
      ]
     },
     "execution_count": 10,
     "metadata": {},
     "output_type": "execute_result"
    }
   ],
   "source": [
    "s.strip()   # how many characters will be left now?"
   ]
  },
  {
   "cell_type": "code",
   "execution_count": 11,
   "metadata": {},
   "outputs": [
    {
     "data": {
      "text/plain": [
       "14"
      ]
     },
     "execution_count": 11,
     "metadata": {},
     "output_type": "execute_result"
    }
   ],
   "source": [
    "# strip removes whitespace (spaces, \\n, \\t, \\r, \\v) from the EDGES of the string, \n",
    "# not from the middle of it\n",
    "\n",
    "len(s.strip())"
   ]
  },
  {
   "cell_type": "code",
   "execution_count": 12,
   "metadata": {},
   "outputs": [
    {
     "data": {
      "text/plain": [
       "105"
      ]
     },
     "execution_count": 12,
     "metadata": {},
     "output_type": "execute_result"
    }
   ],
   "source": [
    "# += means: + and then assign\n",
    "\n",
    "x = 100\n",
    "x = x + 5   # this evaluates to x = 105, which then assigns\n",
    "x"
   ]
  },
  {
   "cell_type": "code",
   "execution_count": 13,
   "metadata": {},
   "outputs": [
    {
     "data": {
      "text/plain": [
       "105"
      ]
     },
     "execution_count": 13,
     "metadata": {},
     "output_type": "execute_result"
    }
   ],
   "source": [
    "# exactly the same thing to say:\n",
    "\n",
    "x = 100\n",
    "x += 5\n",
    "x"
   ]
  },
  {
   "cell_type": "code",
   "execution_count": 14,
   "metadata": {},
   "outputs": [
    {
     "name": "stdin",
     "output_type": "stream",
     "text": [
      "Enter a string:  HELLO123 !!\n"
     ]
    },
    {
     "name": "stdout",
     "output_type": "stream",
     "text": [
      "vowels = 2\n",
      "digits = 3\n",
      "others = 6\n"
     ]
    }
   ],
   "source": [
    "# improved version, handling capital letters (vowels), too:\n",
    "\n",
    "vowels = 0\n",
    "digits = 0\n",
    "others = 0\n",
    "\n",
    "s = input('Enter a string: ').strip()    # get input from the user, then remove leading/trailing whitespace, then assign to s\n",
    "\n",
    "for one_character in s.lower():      # check all characters lowercase, so A and a are both considered vowels\n",
    "    if one_character in 'aeiou':     # is the character a vowel?\n",
    "        vowels += 1\n",
    "    elif one_character.isdigit():    # is the character a digit?\n",
    "        digits += 1\n",
    "    else:\n",
    "        others += 1\n",
    "\n",
    "print(f'vowels = {vowels}')\n",
    "print(f'digits = {digits}')\n",
    "print(f'others = {others}')\n"
   ]
  },
  {
   "cell_type": "code",
   "execution_count": 15,
   "metadata": {},
   "outputs": [
    {
     "data": {
      "text/plain": [
       "105"
      ]
     },
     "execution_count": 15,
     "metadata": {},
     "output_type": "execute_result"
    }
   ],
   "source": [
    "# BH says: I wrote =+ instead of +=\n",
    "# Python won't stop you from writing this.. it just won't do what you want\n",
    "\n",
    "x = 100\n",
    "x += 5   # this means: x = x + 5\n",
    "x"
   ]
  },
  {
   "cell_type": "code",
   "execution_count": 16,
   "metadata": {},
   "outputs": [
    {
     "data": {
      "text/plain": [
       "5"
      ]
     },
     "execution_count": 16,
     "metadata": {},
     "output_type": "execute_result"
    }
   ],
   "source": [
    "x = 100\n",
    "x =+ 5   # what does this mean?   it basically means x = 5\n",
    "x"
   ]
  },
  {
   "cell_type": "code",
   "execution_count": null,
   "metadata": {},
   "outputs": [],
   "source": []
  }
 ],
 "metadata": {
  "kernelspec": {
   "display_name": "Python 3 (ipykernel)",
   "language": "python",
   "name": "python3"
  },
  "language_info": {
   "codemirror_mode": {
    "name": "ipython",
    "version": 3
   },
   "file_extension": ".py",
   "mimetype": "text/x-python",
   "name": "python",
   "nbconvert_exporter": "python",
   "pygments_lexer": "ipython3",
   "version": "3.11.4"
  }
 },
 "nbformat": 4,
 "nbformat_minor": 4
}
