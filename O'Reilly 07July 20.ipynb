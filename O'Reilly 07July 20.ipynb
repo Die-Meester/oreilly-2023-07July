{
 "cells": [
  {
   "cell_type": "markdown",
   "id": "6e582532-511e-43b8-9c57-876e8f3932eb",
   "metadata": {},
   "source": [
    "# Agenda, week 3: Dictionaries and files\n",
    "\n",
    "1. Recap (loops, lists, and tuples) + Q&A\n",
    "2. Dictionaries\n",
    "    - Defining them\n",
    "    - Retrieving from them\n",
    "    - Assigning to them / modifying them\n",
    "    - Accumulating in dictionaries\n",
    "    - Accumulating the unknown\n",
    "    - Looping over dicts\n",
    "    - How do dicts work?\n",
    "3. Files\n",
    "    - Reading from text files\n",
    "    - Looping over text files\n",
    "    - Writing to files and the `with` construct\n",
    "  \n",
    "Download files from : https://files.lerner.co.il/exercise-files.zip"
   ]
  },
  {
   "cell_type": "markdown",
   "id": "97d5c258-5193-4dea-a9e6-120f24037f84",
   "metadata": {},
   "source": [
    "# Extracting a value from a list in a list\n",
    "\n"
   ]
  },
  {
   "cell_type": "code",
   "execution_count": 2,
   "id": "8c428245-7f44-460c-ba04-e029cb005473",
   "metadata": {},
   "outputs": [
    {
     "data": {
      "text/plain": [
       "20"
      ]
     },
     "execution_count": 2,
     "metadata": {},
     "output_type": "execute_result"
    }
   ],
   "source": [
    "mylist = [10, 20, 30]\n",
    "\n",
    "# I want the item at index 1, aka 20\n",
    "mylist[1]"
   ]
  },
  {
   "cell_type": "code",
   "execution_count": 3,
   "id": "c7250819-3b9e-494a-ba78-bbe4440a9579",
   "metadata": {},
   "outputs": [
    {
     "data": {
      "text/plain": [
       "[40, 50, 60]"
      ]
     },
     "execution_count": 3,
     "metadata": {},
     "output_type": "execute_result"
    }
   ],
   "source": [
    "mylist = [[10, 20, 30], [40, 50, 60], [70, 80, 90]]\n",
    "\n",
    "# this is a list of 3 elements\n",
    "# each of those elements is itself a list of 3 integers\n",
    "\n",
    "mylist[1]   # what will this return? A list -- [40, 50, 60]"
   ]
  },
  {
   "cell_type": "code",
   "execution_count": 4,
   "id": "803f842e-61fe-4eff-884b-4c90f3943ad8",
   "metadata": {},
   "outputs": [
    {
     "data": {
      "text/plain": [
       "50"
      ]
     },
     "execution_count": 4,
     "metadata": {},
     "output_type": "execute_result"
    }
   ],
   "source": [
    "# How can we retrieve 50 from that inner list?\n",
    "\n",
    "inner_list = mylist[1]  # will this work?\n",
    "inner_list[1]    # get index 1 from inner_list"
   ]
  },
  {
   "cell_type": "code",
   "execution_count": 5,
   "id": "ada3e634-f673-4f5e-8720-ef6576a44ed1",
   "metadata": {},
   "outputs": [
    {
     "data": {
      "text/plain": [
       "40"
      ]
     },
     "execution_count": 5,
     "metadata": {},
     "output_type": "execute_result"
    }
   ],
   "source": [
    "inner_list[0]  # get index 0 from inner_list"
   ]
  },
  {
   "cell_type": "code",
   "execution_count": 7,
   "id": "4b45576e-a369-46fb-b4e0-4ba7d2b3f36d",
   "metadata": {},
   "outputs": [
    {
     "data": {
      "text/plain": [
       "40"
      ]
     },
     "execution_count": 7,
     "metadata": {},
     "output_type": "execute_result"
    }
   ],
   "source": [
    "# now, let's do that WITHOUT another variable\n",
    "# we'll get index 0 from the list at mylist[1]\n",
    "\n",
    "mylist[1][0]   # read the expression from left to right -- mylist, get its element [1]\n",
    "               # that returns [40, 50, 60].  Apply [0] to that list, and we get 40"
   ]
  },
  {
   "cell_type": "markdown",
   "id": "a18244cc-c4b0-461a-b8e0-99b43b90ccbf",
   "metadata": {},
   "source": [
    "# Data structures so far\n",
    "\n",
    "So far, we've talked about some simple data structures:\n",
    "\n",
    "- Integers and floats\n",
    "- Booleans (`True` and `False`)\n",
    "\n",
    "Then we discussed three types of data which are *sequences*:\n",
    "\n",
    "- Strings (immutable, and contain characters)\n",
    "- Lists (mutable, and contain anything -- but traditionally, all elements are of the same type)\n",
    "- Tuples (immutable and contain anything -- but traditionally, elements are of different types)\n",
    "\n",
    "We saw that with all sequences, we can run a `for` loop or we can use `in` to search in the sequence.\n",
    "\n",
    "Two big questions:\n",
    "1. How long does it take to run that search for an element in a sequence (string, list, tuple)?\n",
    "2. Wouldn't it be nice if we could use something other than integers (0, 1, 2, etc.) as indexes in our sequences?\n",
    "\n",
    "Right now, we're able to store lots of interesting and important data in a list, but the indexes are 0, 1, 2, etc.  Which means that if I'm storing information about different people, and I have an ID number (SSN or national ID or employee ID) that uniquely identifies the person, I can't use that ID number easily as the index in my list. Rather, I have to use 0, 1, 2, 3, etc.\n",
    "\n",
    "Dictionaries are especially useful because they let us use *anything* as the key (which is the term we use in dicts instead of \"index\"). We can use ID numbers as our indexes (aka our keys). We can use names (yes, strings!) as our keys. We can actually use anything for a key that is immutable -- basically meaning numbers and strings, but theoretically anything immutable.\n",
    "\n",
    "# Dicts in a nutshell\n",
    "\n",
    "A dictionary contains key-value pairs.  Dicts exist in many programming languages, not just Python, but often with other names:\n",
    "\n",
    "- Hash tables\n",
    "- Hashes\n",
    "- Associative arrays\n",
    "- Key-value stores\n",
    "- Name-value stores\n",
    "- Hashmaps\n",
    "- Maps\n",
    "\n",
    "Every key has one value, and every value has one key. There is no such thing, in a dict, of a key without a value or a value without a key.\n",
    "\n",
    "Keys are guaranteed to be unique -- they cannot repeat -- and must be immutable (again, basically numbers or strings).\n",
    "\n",
    "Values can be absolutely anything at all in Python.\n",
    "\n",
    "In this way, we have amazing flexibility when choosing our keys and values. Often, the keys will be a unique index into our data set."
   ]
  },
  {
   "cell_type": "code",
   "execution_count": 10,
   "id": "874bfbbe-fd6c-428e-b4b2-4f38a9317fca",
   "metadata": {},
   "outputs": [],
   "source": [
    "# let's define a dict!\n",
    "\n",
    "# 1. We use curly braces to define the dictionary\n",
    "# 2. Each key-value pair has a : between the key and the value\n",
    "# 3. We put commas between each key-value pair\n",
    "# 4. Keys can be anything immutable, and values can be anything at all\n",
    "# 5. Values can repeat if you want, but keys cannot.  Keys are guaranteed to be unique.\n",
    "\n",
    "d = {'a':10, 'b':20, 'c':30}"
   ]
  },
  {
   "cell_type": "code",
   "execution_count": 11,
   "id": "d5d2fce3-0b01-45b2-bd93-801bbe1970ac",
   "metadata": {},
   "outputs": [
    {
     "data": {
      "text/plain": [
       "dict"
      ]
     },
     "execution_count": 11,
     "metadata": {},
     "output_type": "execute_result"
    }
   ],
   "source": [
    "type(d)   # what kind of data do we have here?"
   ]
  },
  {
   "cell_type": "code",
   "execution_count": 12,
   "id": "eaaea113-d8ce-4359-9a93-23bb2728ef5d",
   "metadata": {},
   "outputs": [
    {
     "data": {
      "text/plain": [
       "10"
      ]
     },
     "execution_count": 12,
     "metadata": {},
     "output_type": "execute_result"
    }
   ],
   "source": [
    "# How do I retrieve from a dict?\n",
    "# Just like with a string, list, or tuple with [] and the key we want inside of them\n",
    "\n",
    "d['a']   # retrieve the value with the key 'a'"
   ]
  },
  {
   "cell_type": "code",
   "execution_count": null,
   "id": "d5cf4325-063e-4b53-8463-757c4caa1338",
   "metadata": {},
   "outputs": [],
   "source": [
    "k = 'a'\n",
    "d[k]    # will this work, using"
   ]
  }
 ],
 "metadata": {
  "kernelspec": {
   "display_name": "Python 3 (ipykernel)",
   "language": "python",
   "name": "python3"
  },
  "language_info": {
   "codemirror_mode": {
    "name": "ipython",
    "version": 3
   },
   "file_extension": ".py",
   "mimetype": "text/x-python",
   "name": "python",
   "nbconvert_exporter": "python",
   "pygments_lexer": "ipython3",
   "version": "3.11.4"
  }
 },
 "nbformat": 4,
 "nbformat_minor": 5
}
