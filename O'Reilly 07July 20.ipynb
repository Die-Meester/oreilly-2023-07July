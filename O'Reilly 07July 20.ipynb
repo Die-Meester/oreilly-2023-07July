{
 "cells": [
  {
   "cell_type": "markdown",
   "id": "6e582532-511e-43b8-9c57-876e8f3932eb",
   "metadata": {},
   "source": [
    "# Agenda"
   ]
  },
  {
   "cell_type": "code",
   "execution_count": null,
   "id": "c311bc95-05e3-4a1a-923f-5e93b5f9e3f8",
   "metadata": {},
   "outputs": [],
   "source": [
    "%py"
   ]
  }
 ],
 "metadata": {
  "kernelspec": {
   "display_name": "Python 3 (ipykernel)",
   "language": "python",
   "name": "python3"
  },
  "language_info": {
   "codemirror_mode": {
    "name": "ipython",
    "version": 3
   },
   "file_extension": ".py",
   "mimetype": "text/x-python",
   "name": "python",
   "nbconvert_exporter": "python",
   "pygments_lexer": "ipython3",
   "version": "3.11.4"
  }
 },
 "nbformat": 4,
 "nbformat_minor": 5
}
