{
 "cells": [
  {
   "cell_type": "markdown",
   "id": "6e582532-511e-43b8-9c57-876e8f3932eb",
   "metadata": {},
   "source": [
    "# Agenda, week 3: Dictionaries and files\n",
    "\n",
    "1. Recap (loops, lists, and tuples) + Q&A\n",
    "2. Dictionaries\n",
    "    - Defining them\n",
    "    - Retrieving from them\n",
    "    - Assigning to them / modifying them\n",
    "    - Accumulating in dictionaries\n",
    "    - Accumulating the unknown\n",
    "    - Looping over dicts\n",
    "    - How do dicts work?\n",
    "3. Files\n",
    "    - Reading from text files\n",
    "    - Looping over text files\n",
    "    - Writing to files and the `with` construct\n",
    "  \n",
    "Download files from : https://files.lerner.co.il/exercise-files.zip"
   ]
  },
  {
   "cell_type": "markdown",
   "id": "97d5c258-5193-4dea-a9e6-120f24037f84",
   "metadata": {},
   "source": [
    "# Extracting a value from a list in a list\n",
    "\n"
   ]
  },
  {
   "cell_type": "code",
   "execution_count": 2,
   "id": "8c428245-7f44-460c-ba04-e029cb005473",
   "metadata": {},
   "outputs": [
    {
     "data": {
      "text/plain": [
       "20"
      ]
     },
     "execution_count": 2,
     "metadata": {},
     "output_type": "execute_result"
    }
   ],
   "source": [
    "mylist = [10, 20, 30]\n",
    "\n",
    "# I want the item at index 1, aka 20\n",
    "mylist[1]"
   ]
  },
  {
   "cell_type": "code",
   "execution_count": 3,
   "id": "c7250819-3b9e-494a-ba78-bbe4440a9579",
   "metadata": {},
   "outputs": [
    {
     "data": {
      "text/plain": [
       "[40, 50, 60]"
      ]
     },
     "execution_count": 3,
     "metadata": {},
     "output_type": "execute_result"
    }
   ],
   "source": [
    "mylist = [[10, 20, 30], [40, 50, 60], [70, 80, 90]]\n",
    "\n",
    "# this is a list of 3 elements\n",
    "# each of those elements is itself a list of 3 integers\n",
    "\n",
    "mylist[1]   # what will this return? A list -- [40, 50, 60]"
   ]
  },
  {
   "cell_type": "code",
   "execution_count": 4,
   "id": "803f842e-61fe-4eff-884b-4c90f3943ad8",
   "metadata": {},
   "outputs": [
    {
     "data": {
      "text/plain": [
       "50"
      ]
     },
     "execution_count": 4,
     "metadata": {},
     "output_type": "execute_result"
    }
   ],
   "source": [
    "# How can we retrieve 50 from that inner list?\n",
    "\n",
    "inner_list = mylist[1]  # will this work?\n",
    "inner_list[1]    # get index 1 from inner_list"
   ]
  },
  {
   "cell_type": "code",
   "execution_count": 5,
   "id": "ada3e634-f673-4f5e-8720-ef6576a44ed1",
   "metadata": {},
   "outputs": [
    {
     "data": {
      "text/plain": [
       "40"
      ]
     },
     "execution_count": 5,
     "metadata": {},
     "output_type": "execute_result"
    }
   ],
   "source": [
    "inner_list[0]  # get index 0 from inner_list"
   ]
  },
  {
   "cell_type": "code",
   "execution_count": 7,
   "id": "4b45576e-a369-46fb-b4e0-4ba7d2b3f36d",
   "metadata": {},
   "outputs": [
    {
     "data": {
      "text/plain": [
       "40"
      ]
     },
     "execution_count": 7,
     "metadata": {},
     "output_type": "execute_result"
    }
   ],
   "source": [
    "# now, let's do that WITHOUT another variable\n",
    "# we'll get index 0 from the list at mylist[1]\n",
    "\n",
    "mylist[1][0]   # read the expression from left to right -- mylist, get its element [1]\n",
    "               # that returns [40, 50, 60].  Apply [0] to that list, and we get 40"
   ]
  },
  {
   "cell_type": "markdown",
   "id": "a18244cc-c4b0-461a-b8e0-99b43b90ccbf",
   "metadata": {},
   "source": [
    "# Data structures so far\n",
    "\n",
    "So far, we've talked about some simple data structures:\n",
    "\n",
    "- Integers and floats\n",
    "- Booleans (`True` and `False`)\n",
    "\n",
    "Then we discussed three types of data which are *sequences*:\n",
    "\n",
    "- Strings (immutable, and contain characters)\n",
    "- Lists (mutable, and contain anything -- but traditionally, all elements are of the same type)\n",
    "- Tuples (immutable and contain anything -- but traditionally, elements are of different types)\n",
    "\n",
    "We saw that with all sequences, we can run a `for` loop or we can use `in` to search in the sequence.\n",
    "\n",
    "Two big questions:\n",
    "1. How long does it take to run that search for an element in a sequence (string, list, tuple)?\n",
    "2. Wouldn't it be nice if we could use something other than integers (0, 1, 2, etc.) as indexes in our sequences?\n",
    "\n",
    "Right now, we're able to store lots of interesting and important data in a list, but the indexes are 0, 1, 2, etc.  Which means that if I'm storing information about different people, and I have an ID number (SSN or national ID or employee ID) that uniquely identifies the person, I can't use that ID number easily as the index in my list. Rather, I have to use 0, 1, 2, 3, etc.\n",
    "\n",
    "Dictionaries are especially useful because they let us use *anything* as the key (which is the term we use in dicts instead of \"index\"). We can use ID numbers as our indexes (aka our keys). We can use names (yes, strings!) as our keys. We can actually use anything for a key that is immutable -- basically meaning numbers and strings, but theoretically anything immutable.\n",
    "\n",
    "# Dicts in a nutshell\n",
    "\n",
    "A dictionary contains key-value pairs.  Dicts exist in many programming languages, not just Python, but often with other names:\n",
    "\n",
    "- Hash tables\n",
    "- Hashes\n",
    "- Associative arrays\n",
    "- Key-value stores\n",
    "- Name-value stores\n",
    "- Hashmaps\n",
    "- Maps\n",
    "\n",
    "Every key has one value, and every value has one key. There is no such thing, in a dict, of a key without a value or a value without a key.\n",
    "\n",
    "Keys are guaranteed to be unique -- they cannot repeat -- and must be immutable (again, basically numbers or strings).\n",
    "\n",
    "Values can be absolutely anything at all in Python.\n",
    "\n",
    "In this way, we have amazing flexibility when choosing our keys and values. Often, the keys will be a unique index into our data set."
   ]
  },
  {
   "cell_type": "code",
   "execution_count": 10,
   "id": "874bfbbe-fd6c-428e-b4b2-4f38a9317fca",
   "metadata": {},
   "outputs": [],
   "source": [
    "# let's define a dict!\n",
    "\n",
    "# 1. We use curly braces to define the dictionary\n",
    "# 2. Each key-value pair has a : between the key and the value\n",
    "# 3. We put commas between each key-value pair\n",
    "# 4. Keys can be anything immutable, and values can be anything at all\n",
    "# 5. Values can repeat if you want, but keys cannot.  Keys are guaranteed to be unique.\n",
    "\n",
    "d = {'a':10, 'b':20, 'c':30}"
   ]
  },
  {
   "cell_type": "code",
   "execution_count": 11,
   "id": "d5d2fce3-0b01-45b2-bd93-801bbe1970ac",
   "metadata": {},
   "outputs": [
    {
     "data": {
      "text/plain": [
       "dict"
      ]
     },
     "execution_count": 11,
     "metadata": {},
     "output_type": "execute_result"
    }
   ],
   "source": [
    "type(d)   # what kind of data do we have here?"
   ]
  },
  {
   "cell_type": "code",
   "execution_count": 12,
   "id": "eaaea113-d8ce-4359-9a93-23bb2728ef5d",
   "metadata": {},
   "outputs": [
    {
     "data": {
      "text/plain": [
       "10"
      ]
     },
     "execution_count": 12,
     "metadata": {},
     "output_type": "execute_result"
    }
   ],
   "source": [
    "# How do I retrieve from a dict?\n",
    "# Just like with a string, list, or tuple with [] and the key we want inside of them\n",
    "\n",
    "d['a']   # retrieve the value with the key 'a'"
   ]
  },
  {
   "cell_type": "code",
   "execution_count": 13,
   "id": "d5cf4325-063e-4b53-8463-757c4caa1338",
   "metadata": {},
   "outputs": [
    {
     "data": {
      "text/plain": [
       "10"
      ]
     },
     "execution_count": 13,
     "metadata": {},
     "output_type": "execute_result"
    }
   ],
   "source": [
    "k = 'a'\n",
    "d[k]    # will this work, using a variable that refers to a string?"
   ]
  },
  {
   "cell_type": "code",
   "execution_count": 14,
   "id": "669a73c6-b4b5-4980-bbdd-59790769b3cd",
   "metadata": {},
   "outputs": [
    {
     "ename": "KeyError",
     "evalue": "'q'",
     "output_type": "error",
     "traceback": [
      "\u001b[0;31m---------------------------------------------------------------------------\u001b[0m",
      "\u001b[0;31mKeyError\u001b[0m                                  Traceback (most recent call last)",
      "Cell \u001b[0;32mIn [14], line 2\u001b[0m\n\u001b[1;32m      1\u001b[0m \u001b[38;5;66;03m# what if I try to retrieve the value for a key that doesn't exist?\u001b[39;00m\n\u001b[0;32m----> 2\u001b[0m \u001b[43md\u001b[49m\u001b[43m[\u001b[49m\u001b[38;5;124;43m'\u001b[39;49m\u001b[38;5;124;43mq\u001b[39;49m\u001b[38;5;124;43m'\u001b[39;49m\u001b[43m]\u001b[49m\n",
      "\u001b[0;31mKeyError\u001b[0m: 'q'"
     ]
    }
   ],
   "source": [
    "# what if I try to retrieve the value for a key that doesn't exist?\n",
    "d['q']"
   ]
  },
  {
   "cell_type": "code",
   "execution_count": 16,
   "id": "48a201c0-5a87-4963-90bf-a6acbafce7cd",
   "metadata": {},
   "outputs": [
    {
     "name": "stdout",
     "output_type": "stream",
     "text": [
      "10\n"
     ]
    }
   ],
   "source": [
    "# we can avoid these problems if we first check whether a key is in the dict\n",
    "# we can do that with the \"in\" operator\n",
    "\n",
    "if 'a' in d:       # 'in' only checks the keys, not the values. \n",
    "    print(d['a'])\n",
    "else:\n",
    "    print(f'a is not a key in d')"
   ]
  },
  {
   "cell_type": "code",
   "execution_count": 17,
   "id": "454212ea-a7a7-4ec1-8689-40955b292e52",
   "metadata": {},
   "outputs": [
    {
     "name": "stdout",
     "output_type": "stream",
     "text": [
      "q is not a key in d\n"
     ]
    }
   ],
   "source": [
    "if 'q' in d:       # 'in' only checks the keys, not the values. \n",
    "    print(d['q'])\n",
    "else:\n",
    "    print(f'q is not a key in d')"
   ]
  },
  {
   "cell_type": "markdown",
   "id": "ca1eedfa-c623-4bc9-9624-3da9361f45b3",
   "metadata": {},
   "source": [
    "# Variable names and value types\n",
    "\n",
    "You can give ANY NAME YOU WANT to ANY VALUE YOU WANT in Python.  No restrictions there, aside from reserved words.\n",
    "\n",
    "I typically use `t` for tuples and `d` for dictionaries.  This is just my lazy teaching convention. You should normally aim to use longer names for all of your variables that make your code clearer.\n",
    "\n",
    "Python couldn't care less what you call your variables. The names are for *you* and anyone who will be reading/maintaining your code."
   ]
  },
  {
   "cell_type": "markdown",
   "id": "9b83fe72-0e58-45a1-bc7e-34197d018d5f",
   "metadata": {},
   "source": [
    "# Paradigms for dict use\n",
    "\n",
    "I like to talk about three paradigms for dictionary use. We're going to use paradigm #1 in this exercise, namely creating a dict and using it as a read-only database in our program.\n",
    "\n",
    "We'll define it at the top of the program, then use it, but never modify it."
   ]
  },
  {
   "cell_type": "markdown",
   "id": "b20c56cc-740d-45df-9db3-12ff1c0429ab",
   "metadata": {},
   "source": [
    "# Exercise: Restaurant\n",
    "\n",
    "1. Define a dict called `menu` in which the keys are strings representing items on a restaurant menu, and the values are the prices of those items.\n",
    "2. Define `total` to be 0.\n",
    "3. Ask the user, repeatedly, to order something.\n",
    "    - If they give you the empty string, then stop asking and print the total.\n",
    "    - If they give you the name of something on the menu, then print the price and the new total. (And don't forget to add the price to the total.)\n",
    "    - If they ask for something *not* on the menu, then tell them it's out of stock.\n",
    "4. Print the total.\n",
    "\n",
    "Example:\n",
    "\n",
    "    Order: sandwich\n",
    "    Sandwich is 10, total is 10\n",
    "    Order: tea\n",
    "    Tea is 5, total is 15\n",
    "    Order: elephant\n",
    "    We are fresh out of elephant today!\n",
    "    Order: [ENTER]\n",
    "    Total is 15\n",
    "\n",
    "Some things to remember:\n",
    "1. We can use a `while True` loop, which is infinite. Just don't forget to `break` when you want to exit from the loop, or it'll run forever.\n",
    "2. When we use `input` to get input from the user, check to see if we got an empty string; if so, you can `break` out of the loop.\n",
    "3. Ask the user for their input. If it's blank, `break`. If not, check to see if it's a key in the dict."
   ]
  },
  {
   "cell_type": "code",
   "execution_count": 18,
   "id": "b67a88f3-e0b1-4b76-aeb7-7ca3f4224d66",
   "metadata": {},
   "outputs": [],
   "source": [
    "# define my dict, a variable called \"menu\"\n",
    "\n",
    "menu = {'sandwich':10   ,   'tea':5   ,   'cake':7,     'apple':3  }"
   ]
  },
  {
   "cell_type": "code",
   "execution_count": 19,
   "id": "9621f9c6-d7ba-4969-a776-ba69ea5253a7",
   "metadata": {},
   "outputs": [
    {
     "data": {
      "text/plain": [
       "4"
      ]
     },
     "execution_count": 19,
     "metadata": {},
     "output_type": "execute_result"
    }
   ],
   "source": [
    "# what is the length of my dict?\n",
    "\n",
    "len(menu)"
   ]
  },
  {
   "cell_type": "code",
   "execution_count": 20,
   "id": "d0aaaea0-57f9-40f0-908d-8c278e0e49aa",
   "metadata": {},
   "outputs": [
    {
     "data": {
      "text/plain": [
       "10"
      ]
     },
     "execution_count": 20,
     "metadata": {},
     "output_type": "execute_result"
    }
   ],
   "source": [
    "menu['sandwich']"
   ]
  },
  {
   "cell_type": "code",
   "execution_count": 21,
   "id": "a3fd4a3b-bb64-44d2-bddf-9237e42221c4",
   "metadata": {},
   "outputs": [
    {
     "data": {
      "text/plain": [
       "5"
      ]
     },
     "execution_count": 21,
     "metadata": {},
     "output_type": "execute_result"
    }
   ],
   "source": [
    "menu['tea']"
   ]
  },
  {
   "cell_type": "code",
   "execution_count": 22,
   "id": "dbfee38e-e115-4f96-a790-96da1ce3d163",
   "metadata": {},
   "outputs": [
    {
     "name": "stdin",
     "output_type": "stream",
     "text": [
      "Order:  sandwich\n"
     ]
    },
    {
     "name": "stdout",
     "output_type": "stream",
     "text": [
      "sandwich costs 10; new total is 10\n"
     ]
    },
    {
     "name": "stdin",
     "output_type": "stream",
     "text": [
      "Order:  tea\n"
     ]
    },
    {
     "name": "stdout",
     "output_type": "stream",
     "text": [
      "tea costs 5; new total is 15\n"
     ]
    },
    {
     "name": "stdin",
     "output_type": "stream",
     "text": [
      "Order:  elephant\n"
     ]
    },
    {
     "name": "stdout",
     "output_type": "stream",
     "text": [
      "Sorry, we are all out of elephant today. Try something else.\n"
     ]
    },
    {
     "name": "stdin",
     "output_type": "stream",
     "text": [
      "Order:  \n"
     ]
    },
    {
     "name": "stdout",
     "output_type": "stream",
     "text": [
      "Total is 15\n"
     ]
    }
   ],
   "source": [
    "# in my \"menu\" dict, the convention is that the keys are the menu items,\n",
    "# and the values are the prices for the corresponding items.\n",
    "\n",
    "menu = {'sandwich':10   ,   'tea':5   ,   'cake':7,     'apple':3  }\n",
    "total = 0\n",
    "\n",
    "while True:   # infinite loop -- be sure to have an escape plan with \"break\" later on\n",
    "    order = input('Order: ').strip()   # ask the user for an order, remove whitespace, and assign to order\n",
    "\n",
    "    if order == '':      # this is my escape hatch!\n",
    "        break\n",
    "\n",
    "    # not an empty string? Let's find out if the string is a key in our \"menu\" dict\n",
    "    if order in menu:\n",
    "        price = menu[order]    # grab the price from the menu dict\n",
    "        total += price         # add the price to our total\n",
    "        print(f'{order} costs {price}; new total is {total}')\n",
    "\n",
    "    else:\n",
    "        print(f'Sorry, we are all out of {order} today. Try something else.')\n",
    "\n",
    "print(f'Total is {total}')"
   ]
  },
  {
   "cell_type": "code",
   "execution_count": null,
   "id": "e698cd53-4eca-40f9-ae20-d3be0263190c",
   "metadata": {},
   "outputs": [],
   "source": []
  }
 ],
 "metadata": {
  "kernelspec": {
   "display_name": "Python 3 (ipykernel)",
   "language": "python",
   "name": "python3"
  },
  "language_info": {
   "codemirror_mode": {
    "name": "ipython",
    "version": 3
   },
   "file_extension": ".py",
   "mimetype": "text/x-python",
   "name": "python",
   "nbconvert_exporter": "python",
   "pygments_lexer": "ipython3",
   "version": "3.11.4"
  }
 },
 "nbformat": 4,
 "nbformat_minor": 5
}
