{
 "cells": [
  {
   "cell_type": "markdown",
   "metadata": {},
   "source": [
    "# Agenda\n",
    "\n",
    "1. Fundamentals\n",
    "    - What is a programming language?\n",
    "    - What is Python?\n",
    "    - Values and variables\n",
    "    - Assignment\n",
    "    - Comparison\n",
    "    - `if` and `else`\n",
    "    - Numbers (integers and floats)\n",
    "    - Strings (text)\n",
    "2. Loops, lists, and tuples\n",
    "    - Looping in Python (`for` and `while`)\n",
    "    - Lists (another data structure)\n",
    "    - Turning strings into lists, and vice versa\n",
    "    - Tuples (another data structure)\n",
    "    - Unpacking\n",
    "3. Dictionaries and files\n",
    "    - What is a dict?\n",
    "    - Modifying, adding to, and retrieving from dicts\n",
    "    - Files -- read from and write to them\n",
    "4. Functions\n",
    "    - What is a function?\n",
    "    - How do we call a function?\n",
    "    - How do we write a function?\n",
    "    - Arguments and parameters\n",
    "5. Modules and Packages\n",
    "    - What is a module? Why do we need it?\n",
    "    - Using builtin modules from the standard library\n",
    "    - Downloading and installing modules (packages) from PyPI\n",
    "    - Integrating modules into our programs\n",
    "    - What's next?"
   ]
  },
  {
   "cell_type": "code",
   "execution_count": 3,
   "metadata": {},
   "outputs": [
    {
     "name": "stdout",
     "output_type": "stream",
     "text": [
      "Hello!\n"
     ]
    }
   ],
   "source": [
    "# if I want to write some Python code in Jupyter, I just write it!\n",
    "# by the way, these are comments -- lines starting with # are ignored by Python\n",
    "# comments are meant for the programmer for themselves, or for their colleagues\n",
    "\n",
    "print('Hello!')     # I'm running the \"print\" function, which displays something on the screen\n",
    "\n",
    "# I can press shift+Enter together to execute the contents of the cell"
   ]
  },
  {
   "cell_type": "markdown",
   "metadata": {},
   "source": [
    "# What is a programming language?\n",
    "\n",
    "When computers were first invented, they were based on the idea that high voltage = 1, and low voltage = 0.\n",
    "\n",
    "This allowed them to create logic inside of the computer:\n",
    "- If we have two high-voltage inputs, then we'll have a high-voltage output (\"and\")\n",
    "- If we have at least one high-voltage input, then we'll have a high-voltage output (\"or\")\n",
    "- If we have high voltage, then we'll get low voltage. If we have low voltage, we'll get high voltage. (\"not\")\n",
    "\n",
    "Based on these three ideas, we had the first computers. You just needed to wire together the logic in the right way. If you wanted to change the computer's logic, you needed to rewire it, or even make new components.\n",
    "\n",
    "Soon after this started, people came up with the idea of programmable computers. The idea was that the hardware (the circuits) wouldn't change across tasks, but that we would write a program that could control a general-purpose computer.\n",
    "\n",
    "That raised the question: How do we write these instructions?\n",
    "\n",
    "At first, we just used 1s and 0s. You can imagine that this was very tedious. Soon, people created programming languages. The idea was that you would write in one language, and then it would be translated into the 1s and 0s the computer needed. \n",
    "\n",
    "There are tons of programming languages out there:\n",
    "- C -- a \"low-level\" langauge, meaning that you're writing code that's very similar to the 1s and 0s\n",
    "- Lisp -- a \"high-level\" language, which was very abstract and let you think at a high level, without thinking about 1s and 0s at all\n",
    "\n",
    "Python is a high-level language. It tries to mask a lot of the hardware from you, so that you can think at a high level, and write programs that are more similar to natural language than to 1s and 0s.  The trade-off is that Python programs are much easier to write, much easier to debug, and take longer to execute than (say) C, C++, Java, and C#.\n",
    "\n",
    "Python is more than 30 years old, and is now VERY VERY VERY popular, in such areas as:\n",
    "- Web applications\n",
    "- Devops\n",
    "- System administration\n",
    "- Natural language processing\n",
    "- Data science and machine learning\n",
    "\n",
    "Python is now taught at most major universities as the first programming language in CS majors, and also non-CS majors.\n"
   ]
  },
  {
   "cell_type": "markdown",
   "metadata": {},
   "source": [
    "# A quick intro to Jupyter\n",
    "\n",
    "I use Jupyter in my teaching, and I encourage you to try it, too. I'm going to give some quick hints for using it.\n",
    "\n",
    "I'm typing into a \"cell\" now, and I can \"execute\" the cell with shift+Enter.\n",
    "\n",
    "- You can see a blue outline around the cell. This means that I'm in \"edit mode,\" meaning that anything I type is put into the cell. I can enter edit mode by clicking inside of the cell or pressing Enter.\n",
    "- If the outline is gone and the cell is gray, we're in \"command mode,\" which means that anything I type goes to Jupyter, which it interprets as a command. I can enter command mode by clicking to the left of the cell or pressing ESC.\n",
    "\n",
    "What commands can I give in command mode?\n",
    "- `c` -- copy the current cell\n",
    "- `x` -- cut the current cell\n",
    "- `v` -- paste the most recently cut or copied cell\n",
    "- `a` -- create a new, empty cell *above* the current one\n",
    "- `b` -- create a new, empty cell *below* the current one\n",
    "- `y` -- turn the current cell into a *code* cell\n",
    "- `m` -- turn the current cell into a *Markdown* cell\n",
    "\n",
    "If you want to use Jupyter and you don't have it installed on your computer, there are a few places to try:\n",
    "- Google Colab\n",
    "- Noteable.io\n",
    "- `try.jupyter.org` -- open a new notebook"
   ]
  },
  {
   "cell_type": "markdown",
   "metadata": {},
   "source": [
    "# Let's write some Python code!\n",
    "\n",
    "The most basic thing that I might want to do in Python is print something out. To do that, I'll use the `print` function. A function is a verb in Python. It lets us do something.\n",
    "\n",
    "But `print` needs something to actually display! When we run it, using parentheses, we can put any value we want in there:\n",
    "\n",
    "- Numbers\n",
    "- The result of a numeric operation\n",
    "- Text, if it's inside of quotes"
   ]
  },
  {
   "cell_type": "code",
   "execution_count": 4,
   "metadata": {},
   "outputs": [
    {
     "name": "stdout",
     "output_type": "stream",
     "text": [
      "hello\n"
     ]
    }
   ],
   "source": [
    "print('hello')   # here, I'll print the word 'hello' (in quotes)"
   ]
  },
  {
   "cell_type": "code",
   "execution_count": 5,
   "metadata": {},
   "outputs": [
    {
     "name": "stdout",
     "output_type": "stream",
     "text": [
      "3\n"
     ]
    }
   ],
   "source": [
    "print(3)   # here, I'll print the integer 3"
   ]
  },
  {
   "cell_type": "code",
   "execution_count": 6,
   "metadata": {},
   "outputs": [
    {
     "name": "stdout",
     "output_type": "stream",
     "text": [
      "7\n"
     ]
    }
   ],
   "source": [
    "print(2 + 5)  # here, Python first evaluates the expression 2 + 5, giving us 7, and print then displays 7"
   ]
  },
  {
   "cell_type": "code",
   "execution_count": 7,
   "metadata": {},
   "outputs": [
    {
     "name": "stdout",
     "output_type": "stream",
     "text": [
      "Reuven\n"
     ]
    }
   ],
   "source": [
    "print('Reuven')"
   ]
  },
  {
   "cell_type": "code",
   "execution_count": 8,
   "metadata": {},
   "outputs": [
    {
     "name": "stdout",
     "output_type": "stream",
     "text": [
      "Hello, Reuven\n"
     ]
    }
   ],
   "source": [
    "# I can add together two numbers. Can I add together to text strings (i.e., pieces of text)?\n",
    "\n",
    "print('Hello, ' + 'Reuven')      # Python knows how to combine text using +!"
   ]
  },
  {
   "cell_type": "code",
   "execution_count": 9,
   "metadata": {},
   "outputs": [
    {
     "name": "stdout",
     "output_type": "stream",
     "text": [
      "Hello,Reuven\n"
     ]
    }
   ],
   "source": [
    "# let's get rid of the space at the end of the first string\n",
    "\n",
    "print('Hello,' + 'Reuven') "
   ]
  },
  {
   "cell_type": "markdown",
   "metadata": {},
   "source": [
    "# The most important thing to remember about programming\n",
    "\n",
    "Computers do what you tell them to do. Not what you want them to do."
   ]
  },
  {
   "cell_type": "markdown",
   "metadata": {},
   "source": [
    "# What if I want to greet many different people?\n",
    "\n",
    "We can put a value inside of a *variable*. A variable is like a pronoun, referring to a noun, or to an object. Once we assign the variable to the value, we can refer to the variable instead of the value. This makes our programs more flexible and more readable.\n",
    "\n",
    "# Assignment\n",
    "\n",
    "If I want to put a value in a variable, then I have to use assignment, which is the `=` operator in Python. Do *NOT* confuse `=` in Python with `=` in mathematics! The symbol is the same, but the meaning is very different.\n",
    "\n",
    "In math, `=` means: The two sides have the same value.\n",
    "In Python, `=` is an instruction to the language: Take the value on the right, and assign it to the variable on the left.\n",
    "\n",
    "Once we've assigned to a variable, we can use it wherever we want.\n",
    "\n",
    "Variables can have any name you want:\n",
    "- Traditionally, we only use lowercase letters, `_`, and digits\n",
    "- Variables cannot start with digits, and you shouldn't use `_` at the start\n",
    "- Capital and lowercase letters are different\n",
    "- Variable names are for *you*, not for the programming language. Use names that make sense."
   ]
  },
  {
   "cell_type": "code",
   "execution_count": 10,
   "metadata": {},
   "outputs": [
    {
     "name": "stdout",
     "output_type": "stream",
     "text": [
      "Reuven\n"
     ]
    }
   ],
   "source": [
    "name = 'Reuven'      # assign the string value 'Reuven' to the variable name\n",
    "\n",
    "print(name)  "
   ]
  },
  {
   "cell_type": "markdown",
   "metadata": {},
   "source": [
    "# Wait a second ... didn't we have to declare that variable?\n",
    "\n",
    "No, not in Python.\n",
    "\n",
    "Python is a *dynamic* language, where variables don't have types, and can refer to any value at all. Values do have types, though, and they are different."
   ]
  },
  {
   "cell_type": "code",
   "execution_count": 11,
   "metadata": {},
   "outputs": [
    {
     "data": {
      "text/plain": [
       "str"
      ]
     },
     "execution_count": 11,
     "metadata": {},
     "output_type": "execute_result"
    }
   ],
   "source": [
    "type(name)   # what kind of value do we have in the \"name\" variable?"
   ]
  },
  {
   "cell_type": "code",
   "execution_count": 12,
   "metadata": {},
   "outputs": [
    {
     "data": {
      "text/plain": [
       "int"
      ]
     },
     "execution_count": 12,
     "metadata": {},
     "output_type": "execute_result"
    }
   ],
   "source": [
    "name = 5\n",
    "type(name)   # what about now?"
   ]
  },
  {
   "cell_type": "code",
   "execution_count": 13,
   "metadata": {},
   "outputs": [
    {
     "data": {
      "text/plain": [
       "30"
      ]
     },
     "execution_count": 13,
     "metadata": {},
     "output_type": "execute_result"
    }
   ],
   "source": [
    "x = 10\n",
    "y = 20\n",
    "\n",
    "x + y    # notice -- in Jupyter, and *only* in Jupyter, the final line, if an expression, shows me its value automatically"
   ]
  },
  {
   "cell_type": "code",
   "execution_count": 14,
   "metadata": {},
   "outputs": [
    {
     "data": {
      "text/plain": [
       "'abcdefgh'"
      ]
     },
     "execution_count": 14,
     "metadata": {},
     "output_type": "execute_result"
    }
   ],
   "source": [
    "x = 'abcd'\n",
    "y = 'efgh'\n",
    "\n",
    "x + y"
   ]
  },
  {
   "cell_type": "code",
   "execution_count": 15,
   "metadata": {},
   "outputs": [
    {
     "ename": "TypeError",
     "evalue": "unsupported operand type(s) for +: 'int' and 'str'",
     "output_type": "error",
     "traceback": [
      "\u001b[0;31m---------------------------------------------------------------------------\u001b[0m",
      "\u001b[0;31mTypeError\u001b[0m                                 Traceback (most recent call last)",
      "Cell \u001b[0;32mIn[15], line 6\u001b[0m\n\u001b[1;32m      3\u001b[0m x \u001b[38;5;241m=\u001b[39m \u001b[38;5;241m10\u001b[39m\n\u001b[1;32m      4\u001b[0m y \u001b[38;5;241m=\u001b[39m \u001b[38;5;124m'\u001b[39m\u001b[38;5;124m20\u001b[39m\u001b[38;5;124m'\u001b[39m   \n\u001b[0;32m----> 6\u001b[0m \u001b[43mx\u001b[49m\u001b[43m \u001b[49m\u001b[38;5;241;43m+\u001b[39;49m\u001b[43m \u001b[49m\u001b[43my\u001b[49m   \u001b[38;5;66;03m# what will Python do? It could return 30, or it could return '1020'\u001b[39;00m\n",
      "\u001b[0;31mTypeError\u001b[0m: unsupported operand type(s) for +: 'int' and 'str'"
     ]
    }
   ],
   "source": [
    "# what if I use different types?\n",
    "\n",
    "x = 10\n",
    "y = '20'   \n",
    "\n",
    "x + y   # what will Python do? It could return 30, or it could return '1020'"
   ]
  },
  {
   "cell_type": "markdown",
   "metadata": {},
   "source": [
    "# Exercise: Simple calculator\n",
    "\n",
    "1. Assign one number value to the variable `x`.\n",
    "2. Assign another number value to the variable `y`.\n",
    "3. Print the result of adding `x` and `y` together. Don't try to get too fancy, mixing numbers and text -- just print the result of the addition."
   ]
  },
  {
   "cell_type": "code",
   "execution_count": 16,
   "metadata": {},
   "outputs": [
    {
     "name": "stdout",
     "output_type": "stream",
     "text": [
      "579\n"
     ]
    }
   ],
   "source": [
    "x = 123\n",
    "y = 456\n",
    "\n",
    "print(x + y)"
   ]
  },
  {
   "cell_type": "code",
   "execution_count": 17,
   "metadata": {},
   "outputs": [
    {
     "name": "stdout",
     "output_type": "stream",
     "text": [
      "Hello, Reuven\n"
     ]
    }
   ],
   "source": [
    "name = 'Reuven'\n",
    "print('Hello, ' + name)    # I'm adding together two text strings..."
   ]
  },
  {
   "cell_type": "code",
   "execution_count": 18,
   "metadata": {},
   "outputs": [
    {
     "name": "stdout",
     "output_type": "stream",
     "text": [
      "Hello, Reuven.\n"
     ]
    }
   ],
   "source": [
    "print('Hello, ' + name + '.')    # I'm adding together three text strings..."
   ]
  },
  {
   "cell_type": "code",
   "execution_count": 20,
   "metadata": {},
   "outputs": [
    {
     "name": "stdout",
     "output_type": "stream",
     "text": [
      "30\n",
      "45\n"
     ]
    }
   ],
   "source": [
    "# what happens if I assign a new value to a variable?\n",
    "# if a variable already exists, then assigning to it just gets rid of the old value\n",
    "\n",
    "x = 10\n",
    "y = 20\n",
    "print(x + y)\n",
    "\n",
    "x = 15\n",
    "y = 30\n",
    "print(x + y)"
   ]
  },
  {
   "cell_type": "code",
   "execution_count": 21,
   "metadata": {},
   "outputs": [],
   "source": [
    "# unlike many other programming languages, Python doens't require ; at the end of each line\n",
    "# how does it know when a command ends? the end of the line\n",
    "\n",
    "# you can, optionally, put semicolons between statements on the same line.\n",
    "# but it's really frowned up\n",
    "x = 30 ; y = 40 "
   ]
  },
  {
   "cell_type": "code",
   "execution_count": null,
   "metadata": {},
   "outputs": [],
   "source": []
  },
  {
   "cell_type": "markdown",
   "metadata": {},
   "source": [
    "# Editors to consider (other than Jupyter) for working with Python\n",
    "\n",
    "1. IDLE, which is simple but comes with Python\n",
    "2. PyCharm, which has a free \"community\" edition and a paid professional edition\n",
    "3. VSCode, from Microsoft, which is free (and quite popular)"
   ]
  },
  {
   "cell_type": "markdown",
   "metadata": {},
   "source": [
    "# Next up\n",
    "\n",
    "1. Getting input from the user\n",
    "2. Assigning that input to a variable\n",
    "3. f-strings\n",
    "4. Comparison and `True`/`False`"
   ]
  },
  {
   "cell_type": "code",
   "execution_count": null,
   "metadata": {},
   "outputs": [],
   "source": []
  },
  {
   "cell_type": "markdown",
   "metadata": {},
   "source": [
    "# Getting input from the user\n",
    "\n",
    "So far, all of our values have been \"hard coded\" in our programs. In real life, programs assign values that they got from users, the network, files, etc.  We need a way to get that kind of input.\n",
    "\n",
    "We'll do it with another function, called `input`.  That function lets us ask the user a question. It returns a text string, whatever the user typed. Typically, we'll want to put that text string into a variable with assignment."
   ]
  },
  {
   "cell_type": "code",
   "execution_count": 27,
   "metadata": {},
   "outputs": [
    {
     "name": "stdin",
     "output_type": "stream",
     "text": [
      "Enter your name:  whatever\n"
     ]
    },
    {
     "name": "stdout",
     "output_type": "stream",
     "text": [
      "whatever\n"
     ]
    }
   ],
   "source": [
    "# we have assignment -- variable = value\n",
    "# always, with assignment, the right side runs before the left side\n",
    "\n",
    "name = input('Enter your name: ')\n",
    "print(name)"
   ]
  },
  {
   "cell_type": "code",
   "execution_count": 28,
   "metadata": {},
   "outputs": [
    {
     "data": {
      "text/plain": [
       "'whatever'"
      ]
     },
     "execution_count": 28,
     "metadata": {},
     "output_type": "execute_result"
    }
   ],
   "source": [
    "name"
   ]
  },
  {
   "cell_type": "code",
   "execution_count": 30,
   "metadata": {},
   "outputs": [],
   "source": [
    "a = 10\n",
    "b = 20\n",
    "\n",
    "c = a + b     # for this to work, a and b both need to be defined already, and of compatible types"
   ]
  },
  {
   "cell_type": "code",
   "execution_count": 31,
   "metadata": {},
   "outputs": [
    {
     "data": {
      "text/plain": [
       "30"
      ]
     },
     "execution_count": 31,
     "metadata": {},
     "output_type": "execute_result"
    }
   ],
   "source": [
    "c"
   ]
  },
  {
   "cell_type": "code",
   "execution_count": 32,
   "metadata": {},
   "outputs": [
    {
     "ename": "SyntaxError",
     "evalue": "cannot assign to expression here. Maybe you meant '==' instead of '='? (3849851687.py, line 1)",
     "output_type": "error",
     "traceback": [
      "\u001b[0;36m  Cell \u001b[0;32mIn[32], line 1\u001b[0;36m\u001b[0m\n\u001b[0;31m    a + b = c       # this isn't valid Python syntax, because you cannot assign to a+b\u001b[0m\n\u001b[0m    ^\u001b[0m\n\u001b[0;31mSyntaxError\u001b[0m\u001b[0;31m:\u001b[0m cannot assign to expression here. Maybe you meant '==' instead of '='?\n"
     ]
    }
   ],
   "source": [
    "a + b = c       # this isn't valid Python syntax, because you cannot assign to a+b"
   ]
  },
  {
   "cell_type": "code",
   "execution_count": 33,
   "metadata": {},
   "outputs": [
    {
     "ename": "TypeError",
     "evalue": "unsupported operand type(s) for +: 'int' and 'str'",
     "output_type": "error",
     "traceback": [
      "\u001b[0;31m---------------------------------------------------------------------------\u001b[0m",
      "\u001b[0;31mTypeError\u001b[0m                                 Traceback (most recent call last)",
      "Cell \u001b[0;32mIn[33], line 6\u001b[0m\n\u001b[1;32m      3\u001b[0m x \u001b[38;5;241m=\u001b[39m \u001b[38;5;241m10\u001b[39m\n\u001b[1;32m      4\u001b[0m y \u001b[38;5;241m=\u001b[39m \u001b[38;5;241m20\u001b[39m\n\u001b[0;32m----> 6\u001b[0m \u001b[38;5;28mprint\u001b[39m(\u001b[43mx\u001b[49m\u001b[43m \u001b[49m\u001b[38;5;241;43m+\u001b[39;49m\u001b[43m \u001b[49m\u001b[38;5;124;43m'\u001b[39;49m\u001b[38;5;124;43m + \u001b[39;49m\u001b[38;5;124;43m'\u001b[39;49m \u001b[38;5;241m+\u001b[39m y \u001b[38;5;241m+\u001b[39m \u001b[38;5;124m'\u001b[39m\u001b[38;5;124m = \u001b[39m\u001b[38;5;124m'\u001b[39m \u001b[38;5;241m+\u001b[39m x\u001b[38;5;241m+\u001b[39my)   \u001b[38;5;66;03m# this will end poorly!\u001b[39;00m\n",
      "\u001b[0;31mTypeError\u001b[0m: unsupported operand type(s) for +: 'int' and 'str'"
     ]
    }
   ],
   "source": [
    "# what if I want to print the following:\n",
    "\n",
    "x = 10\n",
    "y = 20\n",
    "\n",
    "print(x + ' + ' + y + ' = ' + x+y)   # this will end poorly!"
   ]
  },
  {
   "cell_type": "code",
   "execution_count": 35,
   "metadata": {},
   "outputs": [
    {
     "name": "stdout",
     "output_type": "stream",
     "text": [
      "10 + 20 = 30\n"
     ]
    }
   ],
   "source": [
    "# we can use an f-string!\n",
    "# this means, before the opening quote in a text string, we put the letter f (for format, or fancy)\n",
    "# this is a regular string in every way but one: Inside of the string, you can have {}\n",
    "# and inside of the {}, you can put a Python expression, including a variable name\n",
    "\n",
    "print(f'{x} + {y} = {x+y}')    # this is the most modern way to display strings in Python"
   ]
  },
  {
   "cell_type": "markdown",
   "metadata": {},
   "source": [
    "# Exercise: Greeting \n",
    "\n",
    "1. Ask the user to enter their name, and assign it to the variable `name`.\n",
    "2. Ask the user to enter their city, and assign it to the variable `city`.\n",
    "3. Using `print` and an f-string, give a nice greeting that mentions the user's name and their city."
   ]
  },
  {
   "cell_type": "code",
   "execution_count": 36,
   "metadata": {},
   "outputs": [
    {
     "name": "stdin",
     "output_type": "stream",
     "text": [
      "Enter your name:  asdfafa\n"
     ]
    },
    {
     "name": "stdout",
     "output_type": "stream",
     "text": [
      "asdfafa\n"
     ]
    }
   ],
   "source": [
    "name = input('Enter your name: ')\n",
    "print(name)"
   ]
  },
  {
   "cell_type": "code",
   "execution_count": null,
   "metadata": {},
   "outputs": [],
   "source": [
    "# undo accidentally assigning to \"print\" with\n",
    "\n",
    "del(print)  # this looks very scary... don't be scared."
   ]
  },
  {
   "cell_type": "code",
   "execution_count": 40,
   "metadata": {},
   "outputs": [
    {
     "name": "stdin",
     "output_type": "stream",
     "text": [
      "Enter your name:  a\n",
      "Enter your city:  b\n"
     ]
    },
    {
     "name": "stdout",
     "output_type": "stream",
     "text": [
      "Hello, a from b!\n"
     ]
    }
   ],
   "source": [
    "name = input('Enter your name: ')\n",
    "city = input('Enter your city: ')\n",
    "\n",
    "print(f'Hello, {name} from {city}!')\n",
    "\n",
    "# print('Hello, ' + name + ' from ' + city + '!')   # this will do the same thing.. but yuck!"
   ]
  },
  {
   "cell_type": "markdown",
   "metadata": {},
   "source": [
    "# Comparisons\n",
    "\n",
    "Sometimes, we want to know whether two values are the same. We might be comparing them as literal values, or we might be comparing them as two variables, or we might be comparing one value with one variable. In any event, we need to know whether they are the same.\n",
    "\n",
    "We can do this with a variety of \"comparison operators.\" Just as `+` is a math operator that takes two arguments (on either side) and returns a new value, comparison operators also take two arguments (on either side) and return `True` or `False` values.\n",
    "\n",
    "The most common comparison operator is `==`, which checks if the values are equal. This is very very different from `=`, which is the assignment operator."
   ]
  },
  {
   "cell_type": "code",
   "execution_count": 41,
   "metadata": {},
   "outputs": [
    {
     "data": {
      "text/plain": [
       "True"
      ]
     },
     "execution_count": 41,
     "metadata": {},
     "output_type": "execute_result"
    }
   ],
   "source": [
    "# some comparisons\n",
    "\n",
    "10 == 10"
   ]
  },
  {
   "cell_type": "code",
   "execution_count": 42,
   "metadata": {},
   "outputs": [
    {
     "data": {
      "text/plain": [
       "False"
      ]
     },
     "execution_count": 42,
     "metadata": {},
     "output_type": "execute_result"
    }
   ],
   "source": [
    "5 == 10"
   ]
  },
  {
   "cell_type": "code",
   "execution_count": 43,
   "metadata": {},
   "outputs": [
    {
     "data": {
      "text/plain": [
       "False"
      ]
     },
     "execution_count": 43,
     "metadata": {},
     "output_type": "execute_result"
    }
   ],
   "source": [
    "-5 == 5"
   ]
  },
  {
   "cell_type": "code",
   "execution_count": 44,
   "metadata": {},
   "outputs": [
    {
     "data": {
      "text/plain": [
       "True"
      ]
     },
     "execution_count": 44,
     "metadata": {},
     "output_type": "execute_result"
    }
   ],
   "source": [
    "x = 10\n",
    "y = 20\n",
    "\n",
    "x == x   # is x equal to itself?"
   ]
  },
  {
   "cell_type": "code",
   "execution_count": 45,
   "metadata": {},
   "outputs": [
    {
     "data": {
      "text/plain": [
       "False"
      ]
     },
     "execution_count": 45,
     "metadata": {},
     "output_type": "execute_result"
    }
   ],
   "source": [
    "x == y"
   ]
  },
  {
   "cell_type": "code",
   "execution_count": 46,
   "metadata": {},
   "outputs": [
    {
     "data": {
      "text/plain": [
       "True"
      ]
     },
     "execution_count": 46,
     "metadata": {},
     "output_type": "execute_result"
    }
   ],
   "source": [
    "x == y - 10"
   ]
  },
  {
   "cell_type": "markdown",
   "metadata": {},
   "source": [
    "# Comparison operators\n",
    "\n",
    "- `==` -- equality\n",
    "- `!=` -- inequality (opposite of `==`), this symbol is because early keyboards couldn't type ≠\n",
    "- `<` -- less than\n",
    "- `>` -- greater than\n",
    "- `<=` -- less than or equal\n",
    "- `>=` -- greater than or equal\n",
    "\n",
    "These operators work on many data types:\n",
    "- They all work on integers\n",
    "- They also all work on strings, where a string is \"less than\" another if it comes first in the dictionary. Note that capital letters all come before lowercase letters in Python, so be careful with capitalization!"
   ]
  },
  {
   "cell_type": "markdown",
   "metadata": {},
   "source": [
    "# Who cares? Where can we use these operators?\n",
    "\n",
    "# One of the most important ideas in all of programming: `if`\n",
    "\n",
    "The `if` statement lets us make a decision in our program, based on input we got from the user, network, a file, etc. We can say that `if` something is `True`, then we want to execute some particular code. If it's `False`,then we want to execute some other code."
   ]
  },
  {
   "cell_type": "code",
   "execution_count": 49,
   "metadata": {},
   "outputs": [
    {
     "name": "stdin",
     "output_type": "stream",
     "text": [
      "Enter your name:  reuven\n"
     ]
    },
    {
     "name": "stdout",
     "output_type": "stream",
     "text": [
      "Hello, reuven. I do not know you.\n"
     ]
    }
   ],
   "source": [
    "# here is some typical, traditional Python code\n",
    "\n",
    "name = input('Enter your name: ')\n",
    "\n",
    "if name == 'Reuven':    # if looks to its right, and checks if it has a True value there. If so, the block under \"if\" runs\n",
    "    print('Hello, boss!')\n",
    "    print('It is great to see you again!')\n",
    "else:     # if 'if' got a False value, then the block under \"else\" runs\n",
    "    print(f'Hello, {name}. I do not know you.')\n",
    "\n",
    "# one, and only one, of the blocks will run. \n",
    "# at the end of the \"if\" and \"else\" lines, we have colons (:) these come right before a block\n",
    "# blocks in Python are indented. They MUST BE. It is not just aesthetics!\n",
    "# I can have as many lines in the block as I want -- at least one\n",
    "# do you need an \"else\" if you have an \"if\"? No, not at all.\n",
    "# in an indented block, you can use ANY PYTHON YOU WANT. You are not restricted at all. You can have an \"if\" inside of an \"if\" block...\n",
    "\n",
    "# If you are thinking about how much you're indenting, then you're using the wrong tool to write Python\n",
    "# any tool that knows Python knows (more or less) how to indent things."
   ]
  },
  {
   "cell_type": "code",
   "execution_count": 47,
   "metadata": {},
   "outputs": [
    {
     "name": "stdout",
     "output_type": "stream",
     "text": [
      "a\n",
      "b\n",
      "c\n"
     ]
    }
   ],
   "source": [
    "if x == 10:\n",
    "    print('a')\n",
    "    print('b')\n",
    "    print('c')\n",
    "else:\n",
    "    print('d')"
   ]
  },
  {
   "cell_type": "markdown",
   "metadata": {},
   "source": [
    "# Exercise: Which word comes first?\n",
    "\n",
    "1. Ask the user to enter a word, and assign it to `word1`.\n",
    "2. Ask the user to enter another word, and assign it to `word2`.\n",
    "3. Using our comparison operators, check to see which word comes first alphabetically, and print it.\n",
    "4. Note that we will assume people will enter different words."
   ]
  },
  {
   "cell_type": "code",
   "execution_count": 51,
   "metadata": {},
   "outputs": [
    {
     "name": "stdin",
     "output_type": "stream",
     "text": [
      "Enter first word:  cat\n",
      "Enter second word:  dog\n"
     ]
    },
    {
     "name": "stdout",
     "output_type": "stream",
     "text": [
      "cat comes before dog\n"
     ]
    }
   ],
   "source": [
    "word1 = input('Enter first word: ')\n",
    "word2 = input('Enter second word: ')\n",
    "\n",
    "if word1 < word2:    # there is a condition here!\n",
    "    print(f'{word1} comes before {word2}')\n",
    "else:                #  there is no condition here!\n",
    "    print(f'{word2} comes before {word1}')"
   ]
  },
  {
   "cell_type": "markdown",
   "metadata": {},
   "source": [
    "# Next up\n",
    "\n",
    "- What about additional options, if `if` and `else` aren't enough?\n",
    "- What about using `and`, `or`, and `not` for logical operators?\n",
    "- Numbers, and turning strings into numbers"
   ]
  },
  {
   "cell_type": "markdown",
   "metadata": {},
   "source": [
    "# What about additional alternatives?\n",
    "\n",
    "We've now seen that `if` and `else` can easily handle any two-possibility set of choices. But sometimes, we need more than two. How can we handle that?\n",
    "\n",
    "We can use `elif`, which comes after `if`, and also has a comparison. If the `if` condition is `False`, then we check the first `elif`. And so forth, until (if nothing else matches), we run the `else`.\n",
    "\n",
    "I can have as many `elif` clauses as I want. The first whose comparison returns `True` is the one that fires. Even if multiple `elif` clauses all return `True`, only the first one will fire.\n",
    "\n",
    "You don't have to have an `else` clause, but if you have `elif` clauses, it's rare not to."
   ]
  },
  {
   "cell_type": "code",
   "execution_count": 54,
   "metadata": {},
   "outputs": [
    {
     "name": "stdin",
     "output_type": "stream",
     "text": [
      "Enter first word:  dog\n",
      "Enter second word:  mouse\n"
     ]
    },
    {
     "name": "stdout",
     "output_type": "stream",
     "text": [
      "dog comes before mouse\n"
     ]
    }
   ],
   "source": [
    "word1 = input('Enter first word: ')\n",
    "word2 = input('Enter second word: ')\n",
    "\n",
    "if word1 < word2:    # there is a condition here!\n",
    "    print(f'{word1} comes before {word2}')\n",
    "elif word1 > word2:                #  there is a condition here -- different from the first\n",
    "    print(f'{word2} comes before {word1}')\n",
    "else:\n",
    "    print(f'You entered {word2} twice!')"
   ]
  },
  {
   "cell_type": "markdown",
   "metadata": {},
   "source": [
    "# What if we want to check more than one thing at a time?\n",
    "\n",
    "If we have behavior that depends on more than one thing being `True`, how do we check that?\n",
    "\n",
    "The answer: `and`.  `and` looks to its left and right, and if both value are `True`, it returns `True. If either is `False`, it returns `False`.\n"
   ]
  },
  {
   "cell_type": "code",
   "execution_count": 55,
   "metadata": {},
   "outputs": [
    {
     "data": {
      "text/plain": [
       "True"
      ]
     },
     "execution_count": 55,
     "metadata": {},
     "output_type": "execute_result"
    }
   ],
   "source": [
    "x = 10\n",
    "y = 20\n",
    "\n",
    "#  True  and  True\n",
    "x == 10 and y == 20   "
   ]
  },
  {
   "cell_type": "code",
   "execution_count": 56,
   "metadata": {},
   "outputs": [
    {
     "data": {
      "text/plain": [
       "False"
      ]
     },
     "execution_count": 56,
     "metadata": {},
     "output_type": "execute_result"
    }
   ],
   "source": [
    "# True and False\n",
    "x == 10 and y == 30"
   ]
  },
  {
   "cell_type": "code",
   "execution_count": 57,
   "metadata": {},
   "outputs": [
    {
     "data": {
      "text/plain": [
       "False"
      ]
     },
     "execution_count": 57,
     "metadata": {},
     "output_type": "execute_result"
    }
   ],
   "source": [
    "# False and True\n",
    "x == 20 and y == 20"
   ]
  },
  {
   "cell_type": "code",
   "execution_count": 58,
   "metadata": {},
   "outputs": [
    {
     "name": "stdout",
     "output_type": "stream",
     "text": [
      "Yes, both are what I want!\n"
     ]
    }
   ],
   "source": [
    "if x == 10 and y == 20:\n",
    "    print('Yes, both are what I want!')"
   ]
  },
  {
   "cell_type": "markdown",
   "metadata": {},
   "source": [
    "# We can also use `or`\n",
    "\n",
    "Whereas `and` returns `True` only if both sides are `True`, `or` returns `True` if *either* side is `True`."
   ]
  },
  {
   "cell_type": "code",
   "execution_count": 59,
   "metadata": {},
   "outputs": [
    {
     "name": "stdout",
     "output_type": "stream",
     "text": [
      "At least one is what I want!\n"
     ]
    }
   ],
   "source": [
    "if x == 99 or y == 20:\n",
    "    print('At least one is what I want!')"
   ]
  },
  {
   "cell_type": "code",
   "execution_count": 60,
   "metadata": {},
   "outputs": [
    {
     "name": "stdout",
     "output_type": "stream",
     "text": [
      "At least one is what I want!\n"
     ]
    }
   ],
   "source": [
    "# whenever you open parentheses, Python's indentation rules are far more lax.\n",
    "if (x == 99 or \n",
    "    y == 20):\n",
    "    print('At least one is what I want!')"
   ]
  },
  {
   "cell_type": "markdown",
   "metadata": {},
   "source": [
    "# Exercise: Name and company\n",
    "\n",
    "1. Ask the user to enter their name, and store in `name`.\n",
    "2. Ask the user to enter their company, and store in `company`.\n",
    "3. Print one of four possible responses:\n",
    "    - If the name and company are the same as you, you should say, \"This is me!\"\n",
    "    - If the name is the same and the company isn't, say, \"You have my name at a rival company!\"\n",
    "    - If the company is the same and the name is different, say, \"You are my colleague.\"\n",
    "    - If neither is the same, be snarky toward them.\n",
    "\n",
    "Example:\n",
    "\n",
    "    Enter your name: Reuven\n",
    "    Enter your company: Lerner\n",
    "    You must be me!"
   ]
  },
  {
   "cell_type": "code",
   "execution_count": 61,
   "metadata": {},
   "outputs": [
    {
     "name": "stdin",
     "output_type": "stream",
     "text": [
      "Enter your name:  Reuven\n",
      "Enter your company:  asdfafafa\n"
     ]
    },
    {
     "name": "stdout",
     "output_type": "stream",
     "text": [
      "You have a great name, but are at a lousy company.\n"
     ]
    }
   ],
   "source": [
    "name = input('Enter your name: ')\n",
    "company = input('Enter your company: ')\n",
    "\n",
    "if name == 'Reuven' and company == 'Lerner':\n",
    "    print('You must be me!')\n",
    "elif name == 'Reuven':\n",
    "    print('You have a great name, but are at a lousy company.')\n",
    "elif company == 'Lerner':\n",
    "    print('You are my colleague')\n",
    "else:\n",
    "    print('I hate your name and your company.')"
   ]
  },
  {
   "cell_type": "code",
   "execution_count": null,
   "metadata": {},
   "outputs": [],
   "source": [
    "# better: define the name/company as variables, so that we don't have to \n",
    "# type them multiple times \n",
    "\n",
    "comparison_name = 'Reuven'\n",
    "comparison_company = 'Lerner'\n",
    "\n",
    "name = input('Enter your name: ')\n",
    "company = input('Enter your company: ')\n",
    "\n",
    "if name == comparison_name and company == comparison_company:\n",
    "    print('You must be me!')\n",
    "elif name == comparison_name:\n",
    "    print('You have a great name, but are at a lousy company.')\n",
    "elif company == comparison_company:\n",
    "    print('You are my colleague')\n",
    "else:\n",
    "    print('I hate your name and your company.')"
   ]
  },
  {
   "cell_type": "code",
   "execution_count": 63,
   "metadata": {},
   "outputs": [
    {
     "name": "stdin",
     "output_type": "stream",
     "text": [
      "Enter your name? asdf\n",
      "Enter your company? asdfafs\n"
     ]
    },
    {
     "name": "stdout",
     "output_type": "stream",
     "text": [
      "don't know you\n"
     ]
    }
   ],
   "source": [
    "my_company = \"Santander\"\n",
    "my_name = \"Silvia\"\n",
    "name = input(\"Enter your name?\")\n",
    "company = input(\"Enter your company?\")\n",
    "\n",
    "if name == my_name and company == my_company:\n",
    "    print(\"It must be me\")\n",
    "elif name == my_name:\n",
    "    print(\"you have my name but you work in another company\") \n",
    "elif company == my_company:\n",
    "    print(\"you are my colleague\") \n",
    "else:\n",
    "    print(\"don't know you\")"
   ]
  },
  {
   "cell_type": "code",
   "execution_count": 65,
   "metadata": {},
   "outputs": [
    {
     "name": "stdin",
     "output_type": "stream",
     "text": [
      "Enter your name:  \n"
     ]
    }
   ],
   "source": [
    "x = input('Enter your name: ')"
   ]
  },
  {
   "cell_type": "code",
   "execution_count": 66,
   "metadata": {},
   "outputs": [
    {
     "data": {
      "text/plain": [
       "5"
      ]
     },
     "execution_count": 66,
     "metadata": {},
     "output_type": "execute_result"
    }
   ],
   "source": [
    "2 + 3"
   ]
  },
  {
   "cell_type": "markdown",
   "metadata": {},
   "source": [
    "# Numbers in Python\n",
    "\n",
    "The CPUs in our computers do lots of math. They implement math operators. But they do so twice -- once for integers, and once for floating-point numbers. That's because integers are very fast, but sometimes we just need floats.\n",
    "\n",
    "In the same way, Python has two types of numbers:\n",
    "\n",
    "- `int` -- whole numbers, of any size.\n",
    "- `float` -- numbers with a decimal point are floats"
   ]
  },
  {
   "cell_type": "code",
   "execution_count": 67,
   "metadata": {},
   "outputs": [
    {
     "data": {
      "text/plain": [
       "int"
      ]
     },
     "execution_count": 67,
     "metadata": {},
     "output_type": "execute_result"
    }
   ],
   "source": [
    "x = 5\n",
    "type(x)"
   ]
  },
  {
   "cell_type": "code",
   "execution_count": 68,
   "metadata": {},
   "outputs": [
    {
     "data": {
      "text/plain": [
       "float"
      ]
     },
     "execution_count": 68,
     "metadata": {},
     "output_type": "execute_result"
    }
   ],
   "source": [
    "x = 5.2\n",
    "type(x)"
   ]
  },
  {
   "cell_type": "code",
   "execution_count": 69,
   "metadata": {},
   "outputs": [
    {
     "data": {
      "text/plain": [
       "13"
      ]
     },
     "execution_count": 69,
     "metadata": {},
     "output_type": "execute_result"
    }
   ],
   "source": [
    "x = 10\n",
    "y = 3\n",
    "\n",
    "x + y"
   ]
  },
  {
   "cell_type": "code",
   "execution_count": 70,
   "metadata": {},
   "outputs": [
    {
     "data": {
      "text/plain": [
       "7"
      ]
     },
     "execution_count": 70,
     "metadata": {},
     "output_type": "execute_result"
    }
   ],
   "source": [
    "x - y"
   ]
  },
  {
   "cell_type": "code",
   "execution_count": 71,
   "metadata": {},
   "outputs": [
    {
     "data": {
      "text/plain": [
       "30"
      ]
     },
     "execution_count": 71,
     "metadata": {},
     "output_type": "execute_result"
    }
   ],
   "source": [
    "x * y"
   ]
  },
  {
   "cell_type": "code",
   "execution_count": 73,
   "metadata": {},
   "outputs": [
    {
     "data": {
      "text/plain": [
       "3.3333333333333335"
      ]
     },
     "execution_count": 73,
     "metadata": {},
     "output_type": "execute_result"
    }
   ],
   "source": [
    "x / y   # divison always returns a float!"
   ]
  },
  {
   "cell_type": "code",
   "execution_count": 74,
   "metadata": {},
   "outputs": [
    {
     "data": {
      "text/plain": [
       "3"
      ]
     },
     "execution_count": 74,
     "metadata": {},
     "output_type": "execute_result"
    }
   ],
   "source": [
    "x // y    # // is the integer-only version of x/y"
   ]
  },
  {
   "cell_type": "code",
   "execution_count": 75,
   "metadata": {},
   "outputs": [
    {
     "data": {
      "text/plain": [
       "1000"
      ]
     },
     "execution_count": 75,
     "metadata": {},
     "output_type": "execute_result"
    }
   ],
   "source": [
    "x ** y   # x to the y power"
   ]
  },
  {
   "cell_type": "code",
   "execution_count": 76,
   "metadata": {},
   "outputs": [
    {
     "data": {
      "text/plain": [
       "1"
      ]
     },
     "execution_count": 76,
     "metadata": {},
     "output_type": "execute_result"
    }
   ],
   "source": [
    "x % y   # x/y, this returns the remainder"
   ]
  },
  {
   "cell_type": "code",
   "execution_count": 78,
   "metadata": {},
   "outputs": [],
   "source": [
    "# how can I add 1 to an integer, and then have that value stick in our variable?\n",
    "\n",
    "x = 10\n",
    "x = x + 1   # this is very very weird syntax if you're new to programming!"
   ]
  },
  {
   "cell_type": "code",
   "execution_count": 79,
   "metadata": {},
   "outputs": [
    {
     "data": {
      "text/plain": [
       "11"
      ]
     },
     "execution_count": 79,
     "metadata": {},
     "output_type": "execute_result"
    }
   ],
   "source": [
    "x"
   ]
  },
  {
   "cell_type": "code",
   "execution_count": 80,
   "metadata": {},
   "outputs": [],
   "source": [
    "# a shorter version of this is:\n",
    "\n",
    "x += 1   # this also means: add 1 to x"
   ]
  },
  {
   "cell_type": "markdown",
   "metadata": {},
   "source": [
    "# What if we have a string? Can we turn it into an integer?\n",
    "\n",
    "Answer: Yes! We can invoke `int` as a function on the string, and get back a new integer based on it."
   ]
  },
  {
   "cell_type": "code",
   "execution_count": 81,
   "metadata": {},
   "outputs": [
    {
     "data": {
      "text/plain": [
       "1234"
      ]
     },
     "execution_count": 81,
     "metadata": {},
     "output_type": "execute_result"
    }
   ],
   "source": [
    "s = '1234'\n",
    "\n",
    "int(s)   # I'll get an integer back"
   ]
  },
  {
   "cell_type": "markdown",
   "metadata": {},
   "source": [
    "# Exercise: Guessing game\n",
    "\n",
    "1. We're going to choose a random number, and assign it to `number`. (I'll show you how to do this.)\n",
    "2. Print the random number, so that we can more easily debug.\n",
    "3. Ask the user to enter their guess.\n",
    "4. Print one of the following:\n",
    "5. - Too high!\n",
    "   - Too low!\n",
    "   - Just right!\n",
    "6. The user gets one guess!\n",
    "\n",
    "# How do we get a random number?\n",
    "\n",
    "```python\n",
    "import random  # this loads the \"library\" of random-related functionality\n",
    "number = random.randint(0, 100)\n",
    "```"
   ]
  },
  {
   "cell_type": "code",
   "execution_count": 85,
   "metadata": {},
   "outputs": [
    {
     "name": "stdout",
     "output_type": "stream",
     "text": [
      "The number is 6.\n"
     ]
    },
    {
     "name": "stdin",
     "output_type": "stream",
     "text": [
      "Enter your guess:  6\n"
     ]
    },
    {
     "name": "stdout",
     "output_type": "stream",
     "text": [
      "You got it!\n"
     ]
    }
   ],
   "source": [
    "import random\n",
    "number = random.randint(0, 100)   # from 0 up to (and including!) 100\n",
    "\n",
    "print(f'The number is {number}.')\n",
    "\n",
    "# there is nothing wrong with this, but there are other versions\n",
    "guess = input('Enter your guess: ')\n",
    "guess = int(guess)  \n",
    "\n",
    "# we could also say:\n",
    "# guess = int(input('Enter your guess: '))\n",
    "\n",
    "if guess == number:\n",
    "    print('You got it!')\n",
    "elif guess < number:\n",
    "    print('Too low!')\n",
    "else:\n",
    "    print('Too high!')"
   ]
  },
  {
   "cell_type": "markdown",
   "metadata": {},
   "source": [
    "# Next up:\n",
    "\n",
    "1. Basic strings\n",
    "2. Retrieving from strings with `[]` and slices\n",
    "3. Checking if something is in there with `in`\n",
    "4. Final project (for today)!"
   ]
  },
  {
   "cell_type": "code",
   "execution_count": 86,
   "metadata": {},
   "outputs": [
    {
     "name": "stdin",
     "output_type": "stream",
     "text": [
      "Enter number  1234\n"
     ]
    }
   ],
   "source": [
    "# this means: ask the user for a string, and assign it to guess\n",
    "guess = input(\"Enter number \")"
   ]
  },
  {
   "cell_type": "code",
   "execution_count": 87,
   "metadata": {},
   "outputs": [
    {
     "data": {
      "text/plain": [
       "'1234'"
      ]
     },
     "execution_count": 87,
     "metadata": {},
     "output_type": "execute_result"
    }
   ],
   "source": [
    "guess"
   ]
  },
  {
   "cell_type": "code",
   "execution_count": 88,
   "metadata": {},
   "outputs": [
    {
     "ename": "SyntaxError",
     "evalue": "cannot assign to function call here. Maybe you meant '==' instead of '='? (3665295367.py, line 6)",
     "output_type": "error",
     "traceback": [
      "\u001b[0;36m  Cell \u001b[0;32mIn[88], line 6\u001b[0;36m\u001b[0m\n\u001b[0;31m    int(guess) = input('Enter number ')\u001b[0m\n\u001b[0m    ^\u001b[0m\n\u001b[0;31mSyntaxError\u001b[0m\u001b[0;31m:\u001b[0m cannot assign to function call here. Maybe you meant '==' instead of '='?\n"
     ]
    }
   ],
   "source": [
    "# I want to turn it into an integer\n",
    "\n",
    "# this syntax won't work, because assignment is always a value on the right\n",
    "# and a variable on the left \n",
    "\n",
    "int(guess) = input('Enter number ')"
   ]
  },
  {
   "cell_type": "code",
   "execution_count": 89,
   "metadata": {},
   "outputs": [
    {
     "name": "stdin",
     "output_type": "stream",
     "text": [
      "Enter number:  1234\n"
     ]
    }
   ],
   "source": [
    "# instead, you need to prepare the value on the *right* side, not the left side\n",
    "\n",
    "guess = int(input('Enter number: '))"
   ]
  },
  {
   "cell_type": "code",
   "execution_count": 90,
   "metadata": {},
   "outputs": [
    {
     "data": {
      "text/plain": [
       "1234"
      ]
     },
     "execution_count": 90,
     "metadata": {},
     "output_type": "execute_result"
    }
   ],
   "source": [
    "guess"
   ]
  },
  {
   "cell_type": "code",
   "execution_count": 91,
   "metadata": {},
   "outputs": [
    {
     "data": {
      "text/plain": [
       "int"
      ]
     },
     "execution_count": 91,
     "metadata": {},
     "output_type": "execute_result"
    }
   ],
   "source": [
    "type(guess)"
   ]
  },
  {
   "cell_type": "code",
   "execution_count": 92,
   "metadata": {},
   "outputs": [
    {
     "name": "stdout",
     "output_type": "stream",
     "text": [
      "Hello\n"
     ]
    }
   ],
   "source": [
    "print('Hello')"
   ]
  },
  {
   "cell_type": "code",
   "execution_count": 93,
   "metadata": {},
   "outputs": [
    {
     "name": "stdout",
     "output_type": "stream",
     "text": [
      "Hello\n"
     ]
    }
   ],
   "source": [
    "print(\"Hello\")"
   ]
  },
  {
   "cell_type": "markdown",
   "metadata": {},
   "source": [
    "# Strings\n",
    "\n",
    "\"String\" is the term used in programming for \"text.\" In Python, our `str` type handles all of our text. Whether it's super short or super long, we'll be using strings.\n",
    "\n",
    "We can define strings in Python in a few different ways:\n",
    "\n",
    "- Single quotes, as in `'hello'`\n",
    "- Double quotes, as in `\"hello\"`\n",
    "- f-strings, as in `f\"hello {name}\"`\n",
    "\n",
    "(And a few more.)\n",
    "\n",
    "How many characters are in a string? We can find out with `len(s)`, if `s` is the string"
   ]
  },
  {
   "cell_type": "code",
   "execution_count": 94,
   "metadata": {},
   "outputs": [
    {
     "data": {
      "text/plain": [
       "7"
      ]
     },
     "execution_count": 94,
     "metadata": {},
     "output_type": "execute_result"
    }
   ],
   "source": [
    "s = 'abcdefg'\n",
    "\n",
    "len(s)\n"
   ]
  },
  {
   "cell_type": "code",
   "execution_count": 95,
   "metadata": {},
   "outputs": [
    {
     "data": {
      "text/plain": [
       "7"
      ]
     },
     "execution_count": 95,
     "metadata": {},
     "output_type": "execute_result"
    }
   ],
   "source": [
    "s = 'abc efg'\n",
    "len(s)   # how many characters?"
   ]
  },
  {
   "cell_type": "code",
   "execution_count": 96,
   "metadata": {},
   "outputs": [
    {
     "data": {
      "text/plain": [
       "9"
      ]
     },
     "execution_count": 96,
     "metadata": {},
     "output_type": "execute_result"
    }
   ],
   "source": [
    "# there are some special characters, such as \\n, which is a newline\n",
    "# in Python, we need to type it with two characters, \\n\n",
    "# in fact, it's just one character.\n",
    "\n",
    "# there are others, such as \\t (tab)... so be careful using \\ in your strings\n",
    "\n",
    "s = 'abcd\\nefgh'\n",
    "len(s) "
   ]
  },
  {
   "cell_type": "code",
   "execution_count": 97,
   "metadata": {},
   "outputs": [
    {
     "name": "stdout",
     "output_type": "stream",
     "text": [
      "abcd\n",
      "efgh\n"
     ]
    }
   ],
   "source": [
    "print(s)"
   ]
  },
  {
   "cell_type": "code",
   "execution_count": 98,
   "metadata": {},
   "outputs": [
    {
     "data": {
      "text/plain": [
       "26"
      ]
     },
     "execution_count": 98,
     "metadata": {},
     "output_type": "execute_result"
    }
   ],
   "source": [
    "s = 'abcdefghijklmnopqrstuvwxyz'\n",
    "len(s) "
   ]
  },
  {
   "cell_type": "code",
   "execution_count": 99,
   "metadata": {},
   "outputs": [
    {
     "data": {
      "text/plain": [
       "'a'"
      ]
     },
     "execution_count": 99,
     "metadata": {},
     "output_type": "execute_result"
    }
   ],
   "source": [
    "# how can I retrieve the first character in this string?\n",
    "# I'm going to use [] after the variable name, and I'll put an integer index in there\n",
    "# indexes start with 0\n",
    "\n",
    "s[0]"
   ]
  },
  {
   "cell_type": "code",
   "execution_count": 100,
   "metadata": {},
   "outputs": [
    {
     "data": {
      "text/plain": [
       "'a'"
      ]
     },
     "execution_count": 100,
     "metadata": {},
     "output_type": "execute_result"
    }
   ],
   "source": [
    "# I can use a variable instead of the literal 0\n",
    "\n",
    "i = 0\n",
    "s[i]"
   ]
  },
  {
   "cell_type": "code",
   "execution_count": 101,
   "metadata": {},
   "outputs": [
    {
     "data": {
      "text/plain": [
       "'j'"
      ]
     },
     "execution_count": 101,
     "metadata": {},
     "output_type": "execute_result"
    }
   ],
   "source": [
    "# what's the 10th character?\n",
    "s[9]"
   ]
  },
  {
   "cell_type": "code",
   "execution_count": 102,
   "metadata": {},
   "outputs": [
    {
     "data": {
      "text/plain": [
       "'z'"
      ]
     },
     "execution_count": 102,
     "metadata": {},
     "output_type": "execute_result"
    }
   ],
   "source": [
    "# what's the final character?\n",
    "# If I know the length, I can just subtract 1\n",
    "\n",
    "s[len(s) - 1]"
   ]
  },
  {
   "cell_type": "code",
   "execution_count": 103,
   "metadata": {},
   "outputs": [
    {
     "data": {
      "text/plain": [
       "'z'"
      ]
     },
     "execution_count": 103,
     "metadata": {},
     "output_type": "execute_result"
    }
   ],
   "source": [
    "# the above is not very Pythonic, as we call it\n",
    "# there's a fr better way\n",
    "\n",
    "s[-1]  # negative indexes count from the right, not the left"
   ]
  },
  {
   "cell_type": "code",
   "execution_count": 106,
   "metadata": {},
   "outputs": [
    {
     "data": {
      "text/plain": [
       "True"
      ]
     },
     "execution_count": 106,
     "metadata": {},
     "output_type": "execute_result"
    }
   ],
   "source": [
    "# searching in a string \n",
    "# we can use the \"in\" operator to tell us whether a string contains something smaller\n",
    "\n",
    "# SMALL in BIG  -- returns a boolean\n",
    "'a' in 'abcde'"
   ]
  },
  {
   "cell_type": "code",
   "execution_count": 105,
   "metadata": {},
   "outputs": [
    {
     "data": {
      "text/plain": [
       "False"
      ]
     },
     "execution_count": 105,
     "metadata": {},
     "output_type": "execute_result"
    }
   ],
   "source": [
    "'x' in 'abcde'"
   ]
  },
  {
   "cell_type": "code",
   "execution_count": 109,
   "metadata": {},
   "outputs": [
    {
     "data": {
      "text/plain": [
       "'klmnopqrst'"
      ]
     },
     "execution_count": 109,
     "metadata": {},
     "output_type": "execute_result"
    }
   ],
   "source": [
    "# slices -- we can retrieve multiple characters from a string, with a \"slice\"\n",
    "# in the [], we put two integers -- the starting index, and one past the ending endex\n",
    "\n",
    "s[10:20]   # s from index 10 up to and not including index 20"
   ]
  },
  {
   "cell_type": "code",
   "execution_count": 110,
   "metadata": {},
   "outputs": [
    {
     "data": {
      "text/plain": [
       "'pqrstuvwxyz'"
      ]
     },
     "execution_count": 110,
     "metadata": {},
     "output_type": "execute_result"
    }
   ],
   "source": [
    "s[15:]   # s from index 15 through the end of the string"
   ]
  },
  {
   "cell_type": "code",
   "execution_count": 111,
   "metadata": {},
   "outputs": [
    {
     "data": {
      "text/plain": [
       "'abcdefghij'"
      ]
     },
     "execution_count": 111,
     "metadata": {},
     "output_type": "execute_result"
    }
   ],
   "source": [
    "s[:10]  # s from the start up to (and not including) index 10"
   ]
  },
  {
   "cell_type": "markdown",
   "metadata": {},
   "source": [
    "# Exercise: Get a character\n",
    "\n",
    "1. Ask the user to enter a word (a string).\n",
    "2. Ask the user to enter an integer, an index in that string.\n",
    "3. If the index is negative or too high, then scold the user\n",
    "4. Otherwise, print the character at that index.\n",
    "\n",
    "5. Example:\n",
    "\n",
    "6.     Enter a word: television\n",
    "7.     Enter an index: 3\n",
    "8.     The character at index 3 is e."
   ]
  },
  {
   "cell_type": "code",
   "execution_count": 117,
   "metadata": {},
   "outputs": [
    {
     "name": "stdin",
     "output_type": "stream",
     "text": [
      "Enter a word:  television\n",
      "Enter an index:  7\n"
     ]
    },
    {
     "name": "stdout",
     "output_type": "stream",
     "text": [
      "The character at index 7 is i.\n"
     ]
    }
   ],
   "source": [
    "word = input('Enter a word: ')\n",
    "index = input('Enter an index: ')\n",
    "index = int(index)\n",
    "\n",
    "if index >= len(word):\n",
    "    print(f'Index is too high')\n",
    "elif index < 0:\n",
    "    print(f'Index is too low')\n",
    "else:\n",
    "    character = word[index]\n",
    "    print(f'The character at index {index} is {character}.')"
   ]
  },
  {
   "cell_type": "markdown",
   "metadata": {},
   "source": [
    "# Exercise: Pig Latin translator\n",
    "\n",
    "Pig Latin (has nothing to do with pigs, and nothing to do with Latin!) is a children's \"secret\" language. The idea is that you can translate from English into Pig Latin.\n",
    "\n",
    "There are two rules:\n",
    "\n",
    "1. If a word starts with a vowel, then we add `way` to it.\n",
    "2. Otherwise, move the first letter to the end, and add `ay`.\n",
    "\n",
    "Some examples:\n",
    "\n",
    "- `computer` -> `omputercay`\n",
    "- `elephant` -> `elephantway`\n",
    "- `papaya` -> `apayapay`\n",
    "- `octopus` -> `octopusway`\n",
    "\n",
    "What's our strategy?\n",
    "- Get a word from the user. All lowercase, no punctuation, no spaces.\n",
    "- Check the first letter. Is it a vowel?\n",
    "    - If so, then just print the word and `way`\n",
    "    - If not, then create a new string from (a) everything but the first character, (b) the first character, and `ay`"
   ]
  },
  {
   "cell_type": "code",
   "execution_count": 122,
   "metadata": {},
   "outputs": [
    {
     "name": "stdin",
     "output_type": "stream",
     "text": [
      "Enter a word:  papaya\n"
     ]
    },
    {
     "name": "stdout",
     "output_type": "stream",
     "text": [
      "apayapay\n"
     ]
    }
   ],
   "source": [
    "word = input('Enter a word: ')\n",
    "\n",
    "# I need to check if the word starts with a vowel?\n",
    "\n",
    "if word[0] in 'aeiou':\n",
    "    print(word + 'way')\n",
    "else:\n",
    "    print(word[1:] + word[0] + 'ay')"
   ]
  },
  {
   "cell_type": "markdown",
   "metadata": {},
   "source": [
    "# Strings are immutable!\n",
    "\n",
    "Once defined, a string can **NEVER** be changed."
   ]
  },
  {
   "cell_type": "code",
   "execution_count": 123,
   "metadata": {},
   "outputs": [
    {
     "data": {
      "text/plain": [
       "'abcdefghijklmnopqrstuvwxyz'"
      ]
     },
     "execution_count": 123,
     "metadata": {},
     "output_type": "execute_result"
    }
   ],
   "source": [
    "s"
   ]
  },
  {
   "cell_type": "code",
   "execution_count": 124,
   "metadata": {},
   "outputs": [
    {
     "ename": "TypeError",
     "evalue": "'str' object does not support item assignment",
     "output_type": "error",
     "traceback": [
      "\u001b[0;31m---------------------------------------------------------------------------\u001b[0m",
      "\u001b[0;31mTypeError\u001b[0m                                 Traceback (most recent call last)",
      "Cell \u001b[0;32mIn[124], line 1\u001b[0m\n\u001b[0;32m----> 1\u001b[0m \u001b[43ms\u001b[49m\u001b[43m[\u001b[49m\u001b[38;5;241;43m0\u001b[39;49m\u001b[43m]\u001b[49m \u001b[38;5;241m=\u001b[39m \u001b[38;5;124m'\u001b[39m\u001b[38;5;124m!\u001b[39m\u001b[38;5;124m'\u001b[39m   \u001b[38;5;66;03m# I'll try to modify the first character of the string\u001b[39;00m\n",
      "\u001b[0;31mTypeError\u001b[0m: 'str' object does not support item assignment"
     ]
    }
   ],
   "source": [
    "s[0] = '!'   # I'll try to modify the first character of the string"
   ]
  },
  {
   "cell_type": "code",
   "execution_count": 125,
   "metadata": {},
   "outputs": [],
   "source": [
    "# I can assign a new, different string (or other type) to a variable. Variables are not constants."
   ]
  },
  {
   "cell_type": "markdown",
   "metadata": {},
   "source": [
    "# Methods\n",
    "\n",
    "So far, all of the verbs we've seen in Python are functions:\n",
    "\n",
    "- `print`\n",
    "- `input`\n",
    "- `len`\n",
    "\n",
    "They all run as follows:\n",
    "\n",
    "    FUNC(DATA)\n",
    "\n",
    "Most of the verbs in Python are *not* functions. Rather, they are \"methods,\" which is a fancy term to describe functions that are attached to a particular class of data.\n",
    "\n",
    "There are string methods, list methods, dict methods, etc. etc.\n",
    "\n",
    "We invoke methods differently:\n",
    "\n",
    "    DATA.METHOD(ARG1)\n",
    "\n",
    "Notice that here, the"
   ]
  }
 ],
 "metadata": {
  "kernelspec": {
   "display_name": "Python 3 (ipykernel)",
   "language": "python",
   "name": "python3"
  },
  "language_info": {
   "codemirror_mode": {
    "name": "ipython",
    "version": 3
   },
   "file_extension": ".py",
   "mimetype": "text/x-python",
   "name": "python",
   "nbconvert_exporter": "python",
   "pygments_lexer": "ipython3",
   "version": "3.11.4"
  }
 },
 "nbformat": 4,
 "nbformat_minor": 4
}
