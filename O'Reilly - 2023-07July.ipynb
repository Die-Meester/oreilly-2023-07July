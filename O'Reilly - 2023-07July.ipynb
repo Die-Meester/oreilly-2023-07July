{
 "cells": [
  {
   "cell_type": "markdown",
   "metadata": {},
   "source": [
    "# Agenda\n",
    "\n",
    "1. Fundamentals\n",
    "    - What is a programming language?\n",
    "    - What is Python?\n",
    "    - Values and variables\n",
    "    - Assignment\n",
    "    - Comparison\n",
    "    - `if` and `else`\n",
    "    - Numbers (integers and floats)\n",
    "    - Strings (text)\n",
    "2. Loops, lists, and tuples\n",
    "    - Looping in Python (`for` and `while`)\n",
    "    - Lists (another data structure)\n",
    "    - Turning strings into lists, and vice versa\n",
    "    - Tuples (another data structure)\n",
    "    - Unpacking\n",
    "3. Dictionaries and files\n",
    "    - What is a dict?\n",
    "    - Modifying, adding to, and retrieving from dicts\n",
    "    - Files -- read from and write to them\n",
    "4. Functions\n",
    "    - What is a function?\n",
    "    - How do we call a function?\n",
    "    - How do we write a function?\n",
    "    - Arguments and parameters\n",
    "5. Modules and Packages\n",
    "    - What is a module? Why do we need it?\n",
    "    - Using builtin modules from the standard library\n",
    "    - Downloading and installing modules (packages) from PyPI\n",
    "    - Integrating modules into our programs\n",
    "    - What's next?"
   ]
  },
  {
   "cell_type": "code",
   "execution_count": 3,
   "metadata": {},
   "outputs": [
    {
     "name": "stdout",
     "output_type": "stream",
     "text": [
      "Hello!\n"
     ]
    }
   ],
   "source": [
    "# if I want to write some Python code in Jupyter, I just write it!\n",
    "# by the way, these are comments -- lines starting with # are ignored by Python\n",
    "# comments are meant for the programmer for themselves, or for their colleagues\n",
    "\n",
    "print('Hello!')     # I'm running the \"print\" function, which displays something on the screen\n",
    "\n",
    "# I can press shift+Enter together to execute the contents of the cell"
   ]
  },
  {
   "cell_type": "markdown",
   "metadata": {},
   "source": [
    "# What is a programming language?\n",
    "\n",
    "When computers were first invented, they were based on the idea that high voltage = 1, and low voltage = 0.\n",
    "\n",
    "This allowed them to create logic inside of the computer:\n",
    "- If we have two high-voltage inputs, then we'll have a high-voltage output (\"and\")\n",
    "- If we have at least one high-voltage input, then we'll have a high-voltage output (\"or\")\n",
    "- If we have high voltage, then we'll get low voltage. If we have low voltage, we'll get high voltage. (\"not\")\n",
    "\n",
    "Based on these three ideas, we had the first computers. You just needed to wire together the logic in the right way. If you wanted to change the computer's logic, you needed to rewire it, or even make new components.\n",
    "\n",
    "Soon after this started, people came up with the idea of programmable computers. The idea was that the hardware (the circuits) wouldn't change across tasks, but that we would write a program that could control a general-purpose computer.\n",
    "\n",
    "That raised the question: How do we write these instructions?\n",
    "\n",
    "At first, we just used 1s and 0s. You can imagine that this was very tedious. Soon, people created programming languages. The idea was that you would write in one language, and then it would be translated into the 1s and 0s the computer needed. \n",
    "\n",
    "There are tons of programming languages out there:\n",
    "- C -- a \"low-level\" langauge, meaning that you're writing code that's very similar to the 1s and 0s\n",
    "- Lisp -- a \"high-level\" language, which was very abstract and let you think at a high level, without thinking about 1s and 0s at all\n",
    "\n",
    "Python is a high-level language. It tries to mask a lot of the hardware from you, so that you can think at a high level, and write programs that are more similar to natural language than to 1s and 0s.  The trade-off is that Python programs are much easier to write, much easier to debug, and take longer to execute than (say) C, C++, Java, and C#.\n",
    "\n",
    "Python is more than 30 years old, and is now VERY VERY VERY popular, in such areas as:\n",
    "- Web applications\n",
    "- Devops\n",
    "- System administration\n",
    "- Natural language processing\n",
    "- Data science and machine learning\n",
    "\n",
    "Python is now taught at most major universities as the first programming language in CS majors, and also non-CS majors.\n"
   ]
  },
  {
   "cell_type": "markdown",
   "metadata": {},
   "source": [
    "# A quick intro to Jupyter\n",
    "\n",
    "I use Jupyter in my teaching, and I encourage you to try it, too. I'm going to give some quick hints for using it.\n",
    "\n",
    "I'm typing into a \"cell\" now, and I can \"execute\" the cell with shift+Enter.\n",
    "\n",
    "- You can see a blue outline around the cell. This means that I'm in \"edit mode,\" meaning that anything I type is put into the cell. I can enter edit mode by clicking inside of the cell or pressing Enter.\n",
    "- If the outline is gone and the cell is gray, we're in \"command mode,\" which means that anything I type goes to Jupyter, which it interprets as a command. I can enter command mode by clicking to the left of the cell or pressing ESC.\n",
    "\n",
    "What commands can I give in command mode?\n",
    "- `c` -- copy the current cell\n",
    "- `x` -- cut the current cell\n",
    "- `v` -- paste the most recently cut or copied cell\n",
    "- `a` -- create a new, empty cell *above* the current one\n",
    "- `b` -- create a new, empty cell *below* the current one\n",
    "- `y` -- turn the current cell into a *code* cell\n",
    "- `m` -- turn the current cell into a *Markdown* cell\n",
    "\n",
    "If you want to use Jupyter and you don't have it installed on your computer, there are a few places to try:\n",
    "- Google Colab\n",
    "- Noteable.io\n",
    "- `try.jupyter.org` -- open a new notebook"
   ]
  },
  {
   "cell_type": "markdown",
   "metadata": {},
   "source": [
    "# Let's write some Python code!\n",
    "\n",
    "The most basic thing that I might want to do in Python is print something out. To do that, I'll use the `print` function. A function is a verb in Python. It lets us do something.\n",
    "\n",
    "But `print` needs something to actually display! When we run it, using parentheses, we can put any value we want in there:\n",
    "\n",
    "- Numbers\n",
    "- The result of a numeric operation\n",
    "- Text, if it's inside of quotes"
   ]
  },
  {
   "cell_type": "code",
   "execution_count": 4,
   "metadata": {},
   "outputs": [
    {
     "name": "stdout",
     "output_type": "stream",
     "text": [
      "hello\n"
     ]
    }
   ],
   "source": [
    "print('hello')   # here, I'll print the word 'hello' (in quotes)"
   ]
  },
  {
   "cell_type": "code",
   "execution_count": 5,
   "metadata": {},
   "outputs": [
    {
     "name": "stdout",
     "output_type": "stream",
     "text": [
      "3\n"
     ]
    }
   ],
   "source": [
    "print(3)   # here, I'll print the integer 3"
   ]
  },
  {
   "cell_type": "code",
   "execution_count": 6,
   "metadata": {},
   "outputs": [
    {
     "name": "stdout",
     "output_type": "stream",
     "text": [
      "7\n"
     ]
    }
   ],
   "source": [
    "print(2 + 5)  # here, Python first evaluates the expression 2 + 5, giving us 7, and print then displays 7"
   ]
  },
  {
   "cell_type": "code",
   "execution_count": 7,
   "metadata": {},
   "outputs": [
    {
     "name": "stdout",
     "output_type": "stream",
     "text": [
      "Reuven\n"
     ]
    }
   ],
   "source": [
    "print('Reuven')"
   ]
  },
  {
   "cell_type": "code",
   "execution_count": 8,
   "metadata": {},
   "outputs": [
    {
     "name": "stdout",
     "output_type": "stream",
     "text": [
      "Hello, Reuven\n"
     ]
    }
   ],
   "source": [
    "# I can add together two numbers. Can I add together to text strings (i.e., pieces of text)?\n",
    "\n",
    "print('Hello, ' + 'Reuven')      # Python knows how to combine text using +!"
   ]
  },
  {
   "cell_type": "code",
   "execution_count": 9,
   "metadata": {},
   "outputs": [
    {
     "name": "stdout",
     "output_type": "stream",
     "text": [
      "Hello,Reuven\n"
     ]
    }
   ],
   "source": [
    "# let's get rid of the space at the end of the first string\n",
    "\n",
    "print('Hello,' + 'Reuven') "
   ]
  },
  {
   "cell_type": "markdown",
   "metadata": {},
   "source": [
    "# The most important thing to remember about programming\n",
    "\n",
    "Computers do what you tell them to do. Not what you want them to do."
   ]
  },
  {
   "cell_type": "markdown",
   "metadata": {},
   "source": [
    "# What if I want to greet many different people?\n",
    "\n",
    "We can put a value inside of a *variable*. A variable is like a pronoun, referring to a noun, or to an object. Once we assign the variable to the value, we can refer to the variable instead of the value. This makes our programs more flexible and more readable.\n",
    "\n",
    "# Assignment\n",
    "\n",
    "If I want to put a value in a variable, then I have to use assignment, which is the `=` operator in Python. Do *NOT* confuse `=` in Python with `=` in mathematics! The symbol is the same, but the meaning is very different.\n",
    "\n",
    "In math, `=` means: The two sides have the same value.\n",
    "In Python, `=` is an instruction to the language: Take the value on the right, and assign it to the variable on the left.\n",
    "\n",
    "Once we've assigned to a variable, we can use it wherever we want.\n",
    "\n",
    "Variables can have any name you want:\n",
    "- Traditionally, we only use lowercase letters, `_`, and digits\n",
    "- Variables cannot start with digits, and you shouldn't use `_` at the start\n",
    "- Capital and lowercase letters are different\n",
    "- Variable names are for *you*, not for the programming language. Use names that make sense."
   ]
  },
  {
   "cell_type": "code",
   "execution_count": 10,
   "metadata": {},
   "outputs": [
    {
     "name": "stdout",
     "output_type": "stream",
     "text": [
      "Reuven\n"
     ]
    }
   ],
   "source": [
    "name = 'Reuven'      # assign the string value 'Reuven' to the variable name\n",
    "\n",
    "print(name)  "
   ]
  },
  {
   "cell_type": "markdown",
   "metadata": {},
   "source": [
    "# Wait a second ... didn't we have to declare that variable?\n",
    "\n",
    "No, not in Python.\n",
    "\n",
    "Python is a *dynamic* language, where variables don't have types, and can refer to any value at all. Values do have types, though, and they are different."
   ]
  },
  {
   "cell_type": "code",
   "execution_count": 11,
   "metadata": {},
   "outputs": [
    {
     "data": {
      "text/plain": [
       "str"
      ]
     },
     "execution_count": 11,
     "metadata": {},
     "output_type": "execute_result"
    }
   ],
   "source": [
    "type(name)   # what kind of value do we have in the \"name\" variable?"
   ]
  },
  {
   "cell_type": "code",
   "execution_count": 12,
   "metadata": {},
   "outputs": [
    {
     "data": {
      "text/plain": [
       "int"
      ]
     },
     "execution_count": 12,
     "metadata": {},
     "output_type": "execute_result"
    }
   ],
   "source": [
    "name = 5\n",
    "type(name)   # what about now?"
   ]
  },
  {
   "cell_type": "code",
   "execution_count": 13,
   "metadata": {},
   "outputs": [
    {
     "data": {
      "text/plain": [
       "30"
      ]
     },
     "execution_count": 13,
     "metadata": {},
     "output_type": "execute_result"
    }
   ],
   "source": [
    "x = 10\n",
    "y = 20\n",
    "\n",
    "x + y    # notice -- in Jupyter, and *only* in Jupyter, the final line, if an expression, shows me its value automatically"
   ]
  },
  {
   "cell_type": "code",
   "execution_count": 14,
   "metadata": {},
   "outputs": [
    {
     "data": {
      "text/plain": [
       "'abcdefgh'"
      ]
     },
     "execution_count": 14,
     "metadata": {},
     "output_type": "execute_result"
    }
   ],
   "source": [
    "x = 'abcd'\n",
    "y = 'efgh'\n",
    "\n",
    "x + y"
   ]
  },
  {
   "cell_type": "code",
   "execution_count": 15,
   "metadata": {},
   "outputs": [
    {
     "ename": "TypeError",
     "evalue": "unsupported operand type(s) for +: 'int' and 'str'",
     "output_type": "error",
     "traceback": [
      "\u001b[0;31m---------------------------------------------------------------------------\u001b[0m",
      "\u001b[0;31mTypeError\u001b[0m                                 Traceback (most recent call last)",
      "Cell \u001b[0;32mIn[15], line 6\u001b[0m\n\u001b[1;32m      3\u001b[0m x \u001b[38;5;241m=\u001b[39m \u001b[38;5;241m10\u001b[39m\n\u001b[1;32m      4\u001b[0m y \u001b[38;5;241m=\u001b[39m \u001b[38;5;124m'\u001b[39m\u001b[38;5;124m20\u001b[39m\u001b[38;5;124m'\u001b[39m   \n\u001b[0;32m----> 6\u001b[0m \u001b[43mx\u001b[49m\u001b[43m \u001b[49m\u001b[38;5;241;43m+\u001b[39;49m\u001b[43m \u001b[49m\u001b[43my\u001b[49m   \u001b[38;5;66;03m# what will Python do? It could return 30, or it could return '1020'\u001b[39;00m\n",
      "\u001b[0;31mTypeError\u001b[0m: unsupported operand type(s) for +: 'int' and 'str'"
     ]
    }
   ],
   "source": [
    "# what if I use different types?\n",
    "\n",
    "x = 10\n",
    "y = '20'   \n",
    "\n",
    "x + y   # what will Python do? It could return 30, or it could return '1020'"
   ]
  },
  {
   "cell_type": "markdown",
   "metadata": {},
   "source": [
    "# Exercise: Simple calculator\n",
    "\n",
    "1. Assign one number value to the variable `x`.\n",
    "2. Assign another number value to the variable `y`.\n",
    "3. Print the result of adding `x` and `y` together. Don't try to get too fancy, mixing numbers and text -- just print the result of the addition."
   ]
  },
  {
   "cell_type": "code",
   "execution_count": 16,
   "metadata": {},
   "outputs": [
    {
     "name": "stdout",
     "output_type": "stream",
     "text": [
      "579\n"
     ]
    }
   ],
   "source": [
    "x = 123\n",
    "y = 456\n",
    "\n",
    "print(x + y)"
   ]
  },
  {
   "cell_type": "code",
   "execution_count": 17,
   "metadata": {},
   "outputs": [
    {
     "name": "stdout",
     "output_type": "stream",
     "text": [
      "Hello, Reuven\n"
     ]
    }
   ],
   "source": [
    "name = 'Reuven'\n",
    "print('Hello, ' + name)    # I'm adding together two text strings..."
   ]
  },
  {
   "cell_type": "code",
   "execution_count": 18,
   "metadata": {},
   "outputs": [
    {
     "name": "stdout",
     "output_type": "stream",
     "text": [
      "Hello, Reuven.\n"
     ]
    }
   ],
   "source": [
    "print('Hello, ' + name + '.')    # I'm adding together three text strings..."
   ]
  },
  {
   "cell_type": "code",
   "execution_count": 20,
   "metadata": {},
   "outputs": [
    {
     "name": "stdout",
     "output_type": "stream",
     "text": [
      "30\n",
      "45\n"
     ]
    }
   ],
   "source": [
    "# what happens if I assign a new value to a variable?\n",
    "# if a variable already exists, then assigning to it just gets rid of the old value\n",
    "\n",
    "x = 10\n",
    "y = 20\n",
    "print(x + y)\n",
    "\n",
    "x = 15\n",
    "y = 30\n",
    "print(x + y)"
   ]
  },
  {
   "cell_type": "code",
   "execution_count": 21,
   "metadata": {},
   "outputs": [],
   "source": [
    "# unlike many other programming languages, Python doens't require ; at the end of each line\n",
    "# how does it know when a command ends? the end of the line\n",
    "\n",
    "# you can, optionally, put semicolons between statements on the same line.\n",
    "# but it's really frowned up\n",
    "x = 30 ; y = 40 "
   ]
  },
  {
   "cell_type": "code",
   "execution_count": null,
   "metadata": {},
   "outputs": [],
   "source": []
  },
  {
   "cell_type": "markdown",
   "metadata": {},
   "source": [
    "# Editors to consider (other than Jupyter) for working with Python\n",
    "\n",
    "1. IDLE, which is simple but comes with Python\n",
    "2. PyCharm, which has a free \"community\" edition and a paid professional edition\n",
    "3. VSCode, from Microsoft, which is free (and quite popular)"
   ]
  },
  {
   "cell_type": "markdown",
   "metadata": {},
   "source": [
    "# Next up\n",
    "\n",
    "1. Getting input from the user\n",
    "2. Assigning that input to a variable\n",
    "3. f-strings\n",
    "4. Comparison and `True`/`False`"
   ]
  },
  {
   "cell_type": "code",
   "execution_count": null,
   "metadata": {},
   "outputs": [],
   "source": []
  },
  {
   "cell_type": "code",
   "execution_count": null,
   "metadata": {},
   "outputs": [],
   "source": [
    "x = 5"
   ]
  }
 ],
 "metadata": {
  "kernelspec": {
   "display_name": "Python 3 (ipykernel)",
   "language": "python",
   "name": "python3"
  },
  "language_info": {
   "codemirror_mode": {
    "name": "ipython",
    "version": 3
   },
   "file_extension": ".py",
   "mimetype": "text/x-python",
   "name": "python",
   "nbconvert_exporter": "python",
   "pygments_lexer": "ipython3",
   "version": "3.11.4"
  }
 },
 "nbformat": 4,
 "nbformat_minor": 4
}
