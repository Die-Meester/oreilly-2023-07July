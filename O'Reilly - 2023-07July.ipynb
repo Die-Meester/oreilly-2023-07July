{
 "cells": [
  {
   "cell_type": "markdown",
   "metadata": {},
   "source": [
    "# Agenda\n",
    "\n",
    "1. Fundamentals\n",
    "    - What is a programming language?\n",
    "    - What is Python?\n",
    "    - Values and variables\n",
    "    - Assignment\n",
    "    - Comparison\n",
    "    - `if` and `else`\n",
    "    - Numbers (integers and floats)\n",
    "    - Strings (text)\n",
    "2. Loops, lists, and tuples\n",
    "    - Looping in Python (`for` and `while`)\n",
    "    - Lists (another data structure)\n",
    "    - Turning strings into lists, and vice versa\n",
    "    - Tuples (another data structure)\n",
    "    - Unpacking\n",
    "3. Dictionaries and files\n",
    "    - What is a dict?\n",
    "    - Modifying, adding to, and retrieving from dicts\n",
    "    - Files -- read from and write to them\n",
    "4. Functions\n",
    "    - What is a function?\n",
    "    - How do we call a function?\n",
    "    - How do we write a function?\n",
    "    - Arguments and parameters\n",
    "5. Modules and Packages\n",
    "    - What is a module? Why do we need it?\n",
    "    - Using builtin modules from the standard library\n",
    "    - Downloading and installing modules (packages) from PyPI\n",
    "    - Integrating modules into our programs\n",
    "    - What's next?"
   ]
  },
  {
   "cell_type": "code",
   "execution_count": 3,
   "metadata": {},
   "outputs": [
    {
     "name": "stdout",
     "output_type": "stream",
     "text": [
      "Hello!\n"
     ]
    }
   ],
   "source": [
    "# if I want to write some Python code in Jupyter, I just write it!\n",
    "# by the way, these are comments -- lines starting with # are ignored by Python\n",
    "# comments are meant for the programmer for themselves, or for their colleagues\n",
    "\n",
    "print('Hello!')     # I'm running the \"print\" function, which displays something on the screen\n",
    "\n",
    "# I can press shift+Enter together to execute the contents of the cell"
   ]
  },
  {
   "cell_type": "markdown",
   "metadata": {},
   "source": [
    "# What is a programming language?\n",
    "\n",
    "When computers were first invented, they were based on the idea that high voltage = 1, and low voltage = 0.\n",
    "\n",
    "This allowed them to create logic inside of the computer:\n",
    "- If we have two high-voltage inputs, then we'll have a high-voltage output (\"and\")\n",
    "- If we have at least one high-voltage input, then we'll have a high-voltage output (\"or\")\n",
    "- If we have high voltage, then we'll get low voltage. If we have low voltage, we'll get high voltage. (\"not\")\n",
    "\n",
    "Based on these three ideas, we had the first computers. You just needed to wire together the logic in the right way. If you wanted to change the computer's logic, you needed to rewire it, or even make new components.\n",
    "\n",
    "Soon after this started, people came up with the idea of programmable computers. The idea was that the hardware (the circuits) wouldn't change across tasks, but that we would write a program that could control a general-purpose computer.\n",
    "\n",
    "That raised the question: How do we write these instructions?\n",
    "\n",
    "At first, we just used 1s and 0s. You can imagine that this was very tedious. Soon, people created programming languages. The idea was that you would write in one language, and then it would be translated into the 1s and 0s the computer needed. \n",
    "\n",
    "There are tons of programming languages out there:\n",
    "- C -- a \"low-level\" langauge, meaning that you're writing code that's very similar to the 1s and 0s\n",
    "- Lisp -- a \"high-level\" language, which was very abstract and let you think at a high level, without thinking about 1s and 0s at all\n",
    "\n",
    "Python is a high-level language. It tries to mask a lot of the hardware from you, so that you can think at a high level, and write programs that are more similar to natural language than to 1s and 0s.  The trade-off is that Python programs are much easier to write, much easier to debug, and take longer to execute than (say) C, C++, Java, and C#.\n",
    "\n",
    "Python is more than 30 years old, and is now VERY VERY VERY popular, in such areas as:\n",
    "- Web applications\n",
    "- Devops\n",
    "- System administration\n",
    "- Natural language processing\n",
    "- Data science and machine learning\n",
    "\n",
    "Python is now taught at most major universities as the first programming language in CS majors, and also non-CS majors.\n"
   ]
  },
  {
   "cell_type": "markdown",
   "metadata": {},
   "source": [
    "# A quick intro to Jupyter\n",
    "\n",
    "I use Jupyter in my teaching, and I encourage you to try it, too. I'm going to give some quick hints for using it.\n",
    "\n",
    "I'm typing into a \"cell\" now, and I can \"execute\" the cell with shift+Enter.\n",
    "\n",
    "- You can see a blue outline around the cell. This means that I'm in \"edit mode,\" meaning that anything I type is put into the cell. I can enter edit mode by clicking inside of the cell or pressing Enter.\n",
    "- If the outline is gone and the cell is gray, we're in \"command mode,\" which means that anything I type goes to Jupyter, which it interprets as a command. I can enter command mode by clicking to the left of the cell or pressing ESC.\n",
    "\n",
    "What commands can I give in command mode?\n",
    "- `c` -- copy the current cell\n",
    "- `x` -- cut the current cell\n",
    "- `v` -- paste the most recently cut or copied cell\n",
    "- `a` -- create a new, empty cell *above* the current one\n",
    "- `b` -- create a new, empty cell *below* the current one\n",
    "\n",
    "If you want to use Jupyter and you don't have it installed on your computer, there are a few places to try:\n",
    "- Google Colab\n",
    "- Noteable.io\n",
    "- `try.jupyter.org` -- open a new notebook"
   ]
  },
  {
   "cell_type": "code",
   "execution_count": null,
   "metadata": {},
   "outputs": [],
   "source": []
  }
 ],
 "metadata": {
  "kernelspec": {
   "display_name": "Python 3 (ipykernel)",
   "language": "python",
   "name": "python3"
  },
  "language_info": {
   "codemirror_mode": {
    "name": "ipython",
    "version": 3
   },
   "file_extension": ".py",
   "mimetype": "text/x-python",
   "name": "python",
   "nbconvert_exporter": "python",
   "pygments_lexer": "ipython3",
   "version": "3.11.4"
  }
 },
 "nbformat": 4,
 "nbformat_minor": 4
}
