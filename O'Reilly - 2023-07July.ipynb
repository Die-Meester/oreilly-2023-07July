{
 "cells": [
  {
   "cell_type": "markdown",
   "metadata": {},
   "source": [
    "# Agenda\n",
    "\n",
    "1. Fundamentals\n",
    "    - What is a programming language?\n",
    "    - What is Python?\n",
    "    - Values and variables\n",
    "    - Assignment\n",
    "    - Comparison\n",
    "    - `if` and `else`\n",
    "    - Numbers (integers and floats)\n",
    "    - Strings (text)\n",
    "2. Loops, lists, and tuples\n",
    "    - Looping in Python (`for` and `while`)\n",
    "    - Lists (another data structure)\n",
    "    - Turning strings into lists, and vice versa\n",
    "    - Tuples (another data structure)\n",
    "    - Unpacking\n",
    "3. Dictionaries and files\n",
    "    - What is a dict?\n",
    "    - Modifying, adding to, and retrieving from dicts\n",
    "    - Files -- read from and write to them\n",
    "4. Functions\n",
    "    - What is a function?\n",
    "    - How do we call a function?\n",
    "    - How do we write a function?\n",
    "    - Arguments and parameters\n",
    "5. Modules and Packages\n",
    "    - What is a module? Why do we need it?\n",
    "    - Using builtin modules from the standard library\n",
    "    - Downloading and installing modules (packages) from PyPI\n",
    "    - Integrating modules into our programs\n",
    "    - What's next?"
   ]
  },
  {
   "cell_type": "code",
   "execution_count": null,
   "metadata": {},
   "outputs": [],
   "source": []
  }
 ],
 "metadata": {
  "kernelspec": {
   "display_name": "Python 3 (ipykernel)",
   "language": "python",
   "name": "python3"
  },
  "language_info": {
   "codemirror_mode": {
    "name": "ipython",
    "version": 3
   },
   "file_extension": ".py",
   "mimetype": "text/x-python",
   "name": "python",
   "nbconvert_exporter": "python",
   "pygments_lexer": "ipython3",
   "version": "3.11.4"
  }
 },
 "nbformat": 4,
 "nbformat_minor": 4
}
